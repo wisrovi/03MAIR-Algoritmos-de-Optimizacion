{
  "nbformat": 4,
  "nbformat_minor": 0,
  "metadata": {
    "colab": {
      "name": "fibonacci.ipynb",
      "provenance": [],
      "authorship_tag": "ABX9TyOYwF+veKxynFSCMc0VcGgo",
      "include_colab_link": true
    },
    "kernelspec": {
      "name": "python3",
      "display_name": "Python 3"
    }
  },
  "cells": [
    {
      "cell_type": "markdown",
      "metadata": {
        "id": "view-in-github",
        "colab_type": "text"
      },
      "source": [
        "<a href=\"https://colab.research.google.com/github/wisrovi/03MAIR-Algoritmos-de-Optimizacion/blob/main/fibonacci.ipynb\" target=\"_parent\"><img src=\"https://colab.research.google.com/assets/colab-badge.svg\" alt=\"Open In Colab\"/></a>"
      ]
    },
    {
      "cell_type": "markdown",
      "metadata": {
        "id": "laG6RfdIDoyK"
      },
      "source": [
        "# Fibonacci"
      ]
    },
    {
      "cell_type": "code",
      "metadata": {
        "id": "ymr2Y1mpDrNU"
      },
      "source": [
        "def fibonacci(maximo_valor, listado:list=[]):\r\n",
        "  if len(listado) == 0:\r\n",
        "    listado.append(0)\r\n",
        "    listado.append(1)\r\n",
        "  else:\r\n",
        "    ultimo_indice = len(listado) - 1\r\n",
        "    ultimo_valor = listado[ ultimo_indice ]\r\n",
        "    penultimo_valor = listado[ ultimo_indice - 1 ]\r\n",
        "    nuevo_valor = ultimo_valor + penultimo_valor\r\n",
        "    if nuevo_valor <= maximo_valor:\r\n",
        "      listado.append(nuevo_valor)\r\n",
        "    else:\r\n",
        "      return listado\r\n",
        "  fibonacci(maximo_valor, listado)"
      ],
      "execution_count": 28,
      "outputs": []
    },
    {
      "cell_type": "code",
      "metadata": {
        "colab": {
          "base_uri": "https://localhost:8080/"
        },
        "id": "4_3J-wQ_F7IZ",
        "outputId": "25d1d8c8-6b7f-438e-9e6e-c0e7846b7b04"
      },
      "source": [
        "rta = fibonacci(maximo_valor = 90)\r\n",
        "print(rta)"
      ],
      "execution_count": 34,
      "outputs": [
        {
          "output_type": "stream",
          "text": [
            "[0, 1, 1, 2, 3, 5, 8, 13, 21, 34, 55, 89]\n"
          ],
          "name": "stdout"
        }
      ]
    }
  ]
}