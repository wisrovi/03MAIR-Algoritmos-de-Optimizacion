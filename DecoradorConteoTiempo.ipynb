{
  "nbformat": 4,
  "nbformat_minor": 0,
  "metadata": {
    "colab": {
      "name": "DecoradorConteoTiempo.ipynb",
      "provenance": [],
      "authorship_tag": "ABX9TyODxd6xUPGrr6oyIXlhbd6O",
      "include_colab_link": true
    },
    "kernelspec": {
      "name": "python3",
      "display_name": "Python 3"
    }
  },
  "cells": [
    {
      "cell_type": "markdown",
      "metadata": {
        "id": "view-in-github",
        "colab_type": "text"
      },
      "source": [
        "<a href=\"https://colab.research.google.com/github/wisrovi/03MAIR-Algoritmos-de-Optimizacion/blob/main/DecoradorConteoTiempo.ipynb\" target=\"_parent\"><img src=\"https://colab.research.google.com/assets/colab-badge.svg\" alt=\"Open In Colab\"/></a>"
      ]
    },
    {
      "cell_type": "code",
      "metadata": {
        "id": "J_JDtO-_0JsQ"
      },
      "source": [
        "from functools import wraps\r\n",
        "from time import time\r\n",
        "\r\n",
        "def calcular_tiempo(f):\r\n",
        "    @wraps(f)\r\n",
        "    def cronometro(*args, **kwargs):\r\n",
        "        t_inicial = time() #tomo la hora antes de ejecutar la funcion\r\n",
        "        salida = f(*args, **kwargs)\r\n",
        "        t_final = time() #tomo la hora despues de ejecutar la funcion\r\n",
        "        print('Tiempo transcurrido (en segundos): {}'.format(t_final - t_inicial))\r\n",
        "        return salida\r\n",
        "    return cronometro"
      ],
      "execution_count": 1,
      "outputs": []
    },
    {
      "cell_type": "code",
      "metadata": {
        "id": "6rhQa9io0LNx"
      },
      "source": [
        "@calcular_tiempo\r\n",
        "def Saludar():\r\n",
        "  print(\"hola\")"
      ],
      "execution_count": 2,
      "outputs": []
    },
    {
      "cell_type": "code",
      "metadata": {
        "colab": {
          "base_uri": "https://localhost:8080/"
        },
        "id": "joS2eWam0RGo",
        "outputId": "ec18b84a-0714-4394-8ff8-db5a59970f37"
      },
      "source": [
        "Saludar()"
      ],
      "execution_count": 3,
      "outputs": [
        {
          "output_type": "stream",
          "text": [
            "hola\n",
            "Tiempo transcurrido (en segundos): 0.00010347366333007812\n"
          ],
          "name": "stdout"
        }
      ]
    }
  ]
}