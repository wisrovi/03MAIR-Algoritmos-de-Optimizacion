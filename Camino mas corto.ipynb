{
  "nbformat": 4,
  "nbformat_minor": 0,
  "metadata": {
    "colab": {
      "name": "Untitled6.ipynb",
      "provenance": [],
      "authorship_tag": "ABX9TyMWz9MhGSyjx3cHKKDs/5Up",
      "include_colab_link": true
    },
    "kernelspec": {
      "name": "python3",
      "display_name": "Python 3"
    }
  },
  "cells": [
    {
      "cell_type": "markdown",
      "metadata": {
        "id": "view-in-github",
        "colab_type": "text"
      },
      "source": [
        "<a href=\"https://colab.research.google.com/github/wisrovi/03MAIR-Algoritmos-de-Optimizacion/blob/main/Camino%20mas%20corto.ipynb\" target=\"_parent\"><img src=\"https://colab.research.google.com/assets/colab-badge.svg\" alt=\"Open In Colab\"/></a>"
      ]
    },
    {
      "cell_type": "markdown",
      "metadata": {
        "id": "2LpTFC5bwZbF"
      },
      "source": [
        "# Problema buscar el camino mas corto"
      ]
    },
    {
      "cell_type": "markdown",
      "metadata": {
        "id": "mC9SkNhMvdXb"
      },
      "source": [
        "# Funciones a usar"
      ]
    },
    {
      "cell_type": "code",
      "metadata": {
        "id": "L6VpDuD0vZo7"
      },
      "source": [
        "def ordenar_lista(listado):\n",
        "    ordenado = sorted(listado, key=lambda s: (len(s), s))\n",
        "    return ordenado\n",
        "\n",
        "def inserta(x, lst, i):\n",
        "    \"\"\"Devuelve una nueva lista resultado de insertar\n",
        "       x dentro de lst en la posición i.\n",
        "    \"\"\"\n",
        "    return lst[:i] + [x] + lst[i:]\n",
        "\n",
        "def inserta_multiple(x, lst):\n",
        "    \"\"\"Devuelve una lista con el resultado de\n",
        "       insertar x en todas las posiciones de lst.  \n",
        "    \"\"\"\n",
        "    return [inserta(x, lst, i) for i in range(len(lst) + 1)]\n",
        "\n",
        "def permuta(c):\n",
        "    \"\"\"Calcula y devuelve una lista con todas las\n",
        "       permutaciones posibles que se pueden hacer\n",
        "       con los elementos contenidos en c.\n",
        "    \"\"\"\n",
        "    if len(c) == 0:\n",
        "        return [[]]\n",
        "    return sum([inserta_multiple(c[0], s)\n",
        "                for s in permuta(c[1:])],\n",
        "               [])"
      ],
      "execution_count": 1,
      "outputs": []
    },
    {
      "cell_type": "markdown",
      "metadata": {
        "id": "0pGhzpeTvkiK"
      },
      "source": [
        "# ciudades"
      ]
    },
    {
      "cell_type": "code",
      "metadata": {
        "id": "9DCW_Fdzvj7a"
      },
      "source": [
        "ciudades = [\"A\", \"B\", \"C\", \"D\"]"
      ],
      "execution_count": 2,
      "outputs": []
    },
    {
      "cell_type": "code",
      "metadata": {
        "id": "TNf1Dh5Avpra"
      },
      "source": [
        "distancia_ciudades = {\n",
        "    \"AB\" : 9,\n",
        "    \"AC\" : 7,\n",
        "    \"AD\" : 8,\n",
        "    \"BC\" : 10,\n",
        "    \"BD\" : 15,\n",
        "    \"CD\" : 4,\n",
        "}"
      ],
      "execution_count": 3,
      "outputs": []
    },
    {
      "cell_type": "code",
      "metadata": {
        "id": "D08IIm28vrg6"
      },
      "source": [
        "# reflejar distancias\n",
        "nueva_distancia_ciudades = dict()\n",
        "for i in distancia_ciudades:\n",
        "    start, end = i[0], i[1]\n",
        "    nueva_distancia_ciudades[end + start] = distancia_ciudades[ start + end ]\n",
        "    nueva_distancia_ciudades[start + end] = distancia_ciudades[ start + end ]\n",
        "distancia_ciudades = nueva_distancia_ciudades\n",
        "# fin reflejar distancias"
      ],
      "execution_count": 4,
      "outputs": []
    },
    {
      "cell_type": "markdown",
      "metadata": {
        "id": "G22Gj4knvxf0"
      },
      "source": [
        "# Crear todas las opciones posibles de visitas a las ciudades"
      ]
    },
    {
      "cell_type": "code",
      "metadata": {
        "id": "59tjsvQdv3-j"
      },
      "source": [
        "todas_opciones = ordenar_lista(permuta(ciudades))\n",
        "todas_opciones_visitar_ciudades = list()\n",
        "for opc in todas_opciones:\n",
        "    orden_visitar_ciudades = list()\n",
        "    for i in range(len(opc) - 1):\n",
        "        orden_visitar_ciudades.append( opc[i] + opc[i+1] )\n",
        "    orden_visitar_ciudades.append( opc[len(opc)-1] + opc[0] )\n",
        "\n",
        "    todas_opciones_visitar_ciudades.append(orden_visitar_ciudades)"
      ],
      "execution_count": 5,
      "outputs": []
    },
    {
      "cell_type": "markdown",
      "metadata": {
        "id": "5Wq12qm_v68s"
      },
      "source": [
        "# De todas las opciones buscar la distancia mas corta"
      ]
    },
    {
      "cell_type": "code",
      "metadata": {
        "id": "XVsET1x_v-XL"
      },
      "source": [
        "mejor_respuesta = (0, 1e100)\n",
        "for i in todas_opciones_visitar_ciudades:\n",
        "    maxima_distancia = 0\n",
        "    for comp in i:\n",
        "        maxima_distancia = maxima_distancia + distancia_ciudades[comp]\n",
        "    \n",
        "    if maxima_distancia < mejor_respuesta[1]:\n",
        "        mejor_respuesta = i, maxima_distancia"
      ],
      "execution_count": 6,
      "outputs": []
    },
    {
      "cell_type": "code",
      "metadata": {
        "colab": {
          "base_uri": "https://localhost:8080/"
        },
        "id": "5zpheOOUwAvS",
        "outputId": "e10e5f80-31d7-47b5-ce0f-1f9c421874e7"
      },
      "source": [
        "print(\"recorrido: {} - distancia: {} Km\".format(mejor_respuesta[0], mejor_respuesta[1]))"
      ],
      "execution_count": 8,
      "outputs": [
        {
          "output_type": "stream",
          "text": [
            "recorrido: ['AB', 'BC', 'CD', 'DA'] - distancia: 31 Km\n"
          ],
          "name": "stdout"
        }
      ]
    }
  ]
}