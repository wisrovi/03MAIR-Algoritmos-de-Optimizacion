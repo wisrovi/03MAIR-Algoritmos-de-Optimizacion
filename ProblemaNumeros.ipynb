{
  "nbformat": 4,
  "nbformat_minor": 0,
  "metadata": {
    "accelerator": "GPU",
    "colab": {
      "name": "ProblemaNumeros.ipynb",
      "provenance": [],
      "collapsed_sections": [],
      "authorship_tag": "ABX9TyNColYwthc39ql7xrlom4oE",
      "include_colab_link": true
    },
    "kernelspec": {
      "display_name": "Python 3",
      "name": "python3"
    }
  },
  "cells": [
    {
      "cell_type": "markdown",
      "metadata": {
        "id": "view-in-github",
        "colab_type": "text"
      },
      "source": [
        "<a href=\"https://colab.research.google.com/github/wisrovi/03MAIR-Algoritmos-de-Optimizacion/blob/main/ProblemaNumeros.ipynb\" target=\"_parent\"><img src=\"https://colab.research.google.com/assets/colab-badge.svg\" alt=\"Open In Colab\"/></a>"
      ]
    },
    {
      "cell_type": "markdown",
      "metadata": {
        "id": "46r9ox7I-SvX"
      },
      "source": [
        "## Cargar las funciones para crear todas las opciones posibles"
      ]
    },
    {
      "cell_type": "code",
      "metadata": {
        "id": "7RnyO-r0-STy"
      },
      "source": [
        "def ordenar_lista(listado):\r\n",
        "    ordenado = sorted(listado, key=lambda s: (len(s), s))\r\n",
        "    return ordenado\r\n",
        "\r\n",
        "def inserta(x, lst, i):\r\n",
        "    \"\"\"Devuelve una nueva lista resultado de insertar\r\n",
        "       x dentro de lst en la posición i.\r\n",
        "    \"\"\"\r\n",
        "    return lst[:i] + [x] + lst[i:]\r\n",
        "\r\n",
        "def inserta_multiple(x, lst):\r\n",
        "    \"\"\"Devuelve una lista con el resultado de\r\n",
        "       insertar x en todas las posiciones de lst.  \r\n",
        "    \"\"\"\r\n",
        "    return [inserta(x, lst, i) for i in range(len(lst) + 1)]\r\n",
        "\r\n",
        "def permuta(c):\r\n",
        "    \"\"\"Calcula y devuelve una lista con todas las\r\n",
        "       permutaciones posibles que se pueden hacer\r\n",
        "       con los elementos contenidos en c.\r\n",
        "    \"\"\"\r\n",
        "    if len(c) == 0:\r\n",
        "        return [[]]\r\n",
        "    return sum([inserta_multiple(c[0], s)\r\n",
        "                for s in permuta(c[1:])],\r\n",
        "               [])"
      ],
      "execution_count": 2,
      "outputs": []
    },
    {
      "cell_type": "markdown",
      "metadata": {
        "id": "A1e_Ib1SCHLR"
      },
      "source": [
        "## vectores de numeros y signos"
      ]
    },
    {
      "cell_type": "code",
      "metadata": {
        "id": "3AGcrmqa-SWg"
      },
      "source": [
        "numeros = ['1', '2', '3', '4', '5', '6', '7', '8', '9']\r\n",
        "signos = ['+', '-', '*', '/']"
      ],
      "execution_count": 3,
      "outputs": []
    },
    {
      "cell_type": "markdown",
      "metadata": {
        "id": "IKm45BoACLsP"
      },
      "source": [
        "## Creamos todas las conbinaciones de signos y de numeros"
      ]
    },
    {
      "cell_type": "code",
      "metadata": {
        "colab": {
          "base_uri": "https://localhost:8080/"
        },
        "id": "vwo3qB80-yLD",
        "outputId": "33af6d6e-c1dd-498d-a347-1f28f35a0f35"
      },
      "source": [
        "todas_conbinaciones_numeros = ordenar_lista(permuta(numeros))\r\n",
        "todas_conbinaciones_signos = ordenar_lista(permuta(signos))\r\n",
        "print(len(todas_conbinaciones_numeros))\r\n",
        "print(len(todas_conbinaciones_signos))"
      ],
      "execution_count": 4,
      "outputs": [
        {
          "output_type": "stream",
          "text": [
            "362880\n",
            "24\n"
          ],
          "name": "stdout"
        }
      ]
    },
    {
      "cell_type": "markdown",
      "metadata": {
        "id": "jCSfcXWwCRW-"
      },
      "source": [
        "## De todas las combinaciones recortamos y dejamos solo 5 numeros sin repetir opciones"
      ]
    },
    {
      "cell_type": "code",
      "metadata": {
        "colab": {
          "base_uri": "https://localhost:8080/"
        },
        "id": "l8RpnnAQAb8U",
        "outputId": "1d23d5dd-7ace-4285-d0f4-758e2c036982"
      },
      "source": [
        "todas_opciones_5_digitos = list()\r\n",
        "for opcion in todas_conbinaciones_numeros:\r\n",
        "  item = opcion[:5]\r\n",
        "  if not item in todas_opciones_5_digitos:\r\n",
        "    todas_opciones_5_digitos.append(item)\r\n",
        "\r\n",
        "print(len(todas_opciones_5_digitos))"
      ],
      "execution_count": 5,
      "outputs": [
        {
          "output_type": "stream",
          "text": [
            "15120\n"
          ],
          "name": "stdout"
        }
      ]
    },
    {
      "cell_type": "markdown",
      "metadata": {
        "id": "CIOj6scbCajn"
      },
      "source": [
        "## Con todas las opciones de numeros y todas las opciones de signos creamos todas las opciones de operaciones"
      ]
    },
    {
      "cell_type": "code",
      "metadata": {
        "colab": {
          "base_uri": "https://localhost:8080/"
        },
        "id": "h8ubT6le_akK",
        "outputId": "b3a1b332-8ce9-4fd7-91d6-c03733d33eba"
      },
      "source": [
        "operaciones = list()\r\n",
        "for pack_numeros in todas_opciones_5_digitos:\r\n",
        "  for pack_signos in todas_conbinaciones_signos:\r\n",
        "    operacion = pack_numeros[0] + pack_signos[0] + pack_numeros[1] + pack_signos[1] + pack_numeros[2] + pack_signos[2] + pack_numeros[3] + pack_signos[3] + pack_numeros[4]\r\n",
        "    if not operacion in operaciones:\r\n",
        "      operaciones.append(operacion)\r\n",
        "\r\n",
        "print(len(operaciones))"
      ],
      "execution_count": 6,
      "outputs": [
        {
          "output_type": "stream",
          "text": [
            "362880\n"
          ],
          "name": "stdout"
        }
      ]
    },
    {
      "cell_type": "code",
      "metadata": {
        "id": "SvaMvfNkIRX6",
        "colab": {
          "base_uri": "https://localhost:8080/"
        },
        "outputId": "5b828af2-f0eb-44a1-a0b9-f8941c508266"
      },
      "source": [
        "print(operaciones[:3])"
      ],
      "execution_count": 7,
      "outputs": [
        {
          "output_type": "stream",
          "text": [
            "['1*2+3-4/5', '1*2+3/4-5', '1*2-3+4/5']\n"
          ],
          "name": "stdout"
        }
      ]
    },
    {
      "cell_type": "markdown",
      "metadata": {
        "id": "tOGTPHD6CoRH"
      },
      "source": [
        "## Teniendo todas las operaciones posibles, hallamos todos los resultados"
      ]
    },
    {
      "cell_type": "code",
      "metadata": {
        "id": "ZzDSR1y8VPwP"
      },
      "source": [
        "todas_respuestas_operaciones = list()\r\n",
        "for opera in operaciones:\r\n",
        "  data = dict()\r\n",
        "  data['operacion'] = opera\r\n",
        "  data['rta'] = eval(opera)\r\n",
        "\r\n",
        "  todas_respuestas_operaciones.append(data)"
      ],
      "execution_count": 8,
      "outputs": []
    },
    {
      "cell_type": "code",
      "metadata": {
        "colab": {
          "base_uri": "https://localhost:8080/"
        },
        "id": "vK7A20fpWW7m",
        "outputId": "03eca11a-b349-4d20-a7c6-64067ad19575"
      },
      "source": [
        "print(len(todas_respuestas_operaciones))\r\n",
        "todas_respuestas_operaciones[:5]"
      ],
      "execution_count": 9,
      "outputs": [
        {
          "output_type": "stream",
          "text": [
            "362880\n"
          ],
          "name": "stdout"
        },
        {
          "output_type": "execute_result",
          "data": {
            "text/plain": [
              "[{'operacion': '1*2+3-4/5', 'rta': 4.2},\n",
              " {'operacion': '1*2+3/4-5', 'rta': -2.25},\n",
              " {'operacion': '1*2-3+4/5', 'rta': -0.19999999999999996},\n",
              " {'operacion': '1*2-3/4+5', 'rta': 6.25},\n",
              " {'operacion': '1*2/3+4-5', 'rta': -0.33333333333333304}]"
            ]
          },
          "metadata": {
            "tags": []
          },
          "execution_count": 9
        }
      ]
    },
    {
      "cell_type": "markdown",
      "metadata": {
        "id": "71i-xbEWC0zQ"
      },
      "source": [
        "## Como el ejercicio solicita solo opciones enteras, entonces quitamos las operaciones cuya solucion no sea entera"
      ]
    },
    {
      "cell_type": "code",
      "metadata": {
        "id": "mlYcTFYMWyQa"
      },
      "source": [
        "respuestas_solucion_entera = list()\r\n",
        "for rta in todas_respuestas_operaciones:\r\n",
        "  if rta['rta'] == int(rta['rta']):\r\n",
        "    respuestas_solucion_entera.append(rta)\r\n"
      ],
      "execution_count": 10,
      "outputs": []
    },
    {
      "cell_type": "code",
      "metadata": {
        "colab": {
          "base_uri": "https://localhost:8080/"
        },
        "id": "fqFHK1JjWyST",
        "outputId": "0321c439-eb9e-4924-bbd5-968d2c7750d1"
      },
      "source": [
        "print(len(respuestas_solucion_entera))"
      ],
      "execution_count": 11,
      "outputs": [
        {
          "output_type": "stream",
          "text": [
            "90000\n"
          ],
          "name": "stdout"
        }
      ]
    },
    {
      "cell_type": "markdown",
      "metadata": {
        "id": "4swNT1lhC-Ly"
      },
      "source": [
        "## ya teniendo esto, vamos a definir cuales son las respuestas que son posibles con estas operaciones"
      ]
    },
    {
      "cell_type": "code",
      "metadata": {
        "colab": {
          "base_uri": "https://localhost:8080/"
        },
        "id": "VC9xC7HXhbkZ",
        "outputId": "26120a48-ba4c-481f-cd42-f28af0407747"
      },
      "source": [
        "unicas_respuestas_posibles = list()\r\n",
        "for rta in respuestas_solucion_entera:\r\n",
        "  if not int(rta['rta']) in unicas_respuestas_posibles:\r\n",
        "    unicas_respuestas_posibles.append(int(rta['rta']))\r\n",
        "\r\n",
        "print(len(unicas_respuestas_posibles))"
      ],
      "execution_count": 12,
      "outputs": [
        {
          "output_type": "stream",
          "text": [
            "147\n"
          ],
          "name": "stdout"
        }
      ]
    },
    {
      "cell_type": "code",
      "metadata": {
        "colab": {
          "base_uri": "https://localhost:8080/"
        },
        "id": "RpZ2AMM8jtYT",
        "outputId": "a403d4fa-017e-405e-b143-ba9115b91d01"
      },
      "source": [
        "print(unicas_respuestas_posibles)"
      ],
      "execution_count": 13,
      "outputs": [
        {
          "output_type": "stream",
          "text": [
            "[1, -3, 5, -2, 4, 0, 2, -5, 7, -6, -1, 8, 3, -7, -4, 9, 6, -9, 11, -12, 14, -11, 13, -13, 15, -15, 17, 10, -8, -18, 20, 12, -10, -21, 23, -14, 16, -16, 18, -17, 19, -20, 22, -23, 25, -24, 26, -32, 34, 24, -22, -27, 29, -37, 39, -42, 44, -39, 41, -45, 47, -51, 53, -53, 55, -60, 62, -69, 71, -19, 21, 27, -25, -31, 33, 30, -28, 31, -29, 35, -33, 28, -26, 32, -30, 38, -36, 43, -41, 42, -40, -52, 54, -59, 61, -68, 70, 40, -38, 46, -44, 51, -49, 60, -58, -35, -43, -67, -34, -48, 52, -50, -57, -66, 45, -47, -56, 36, -65, 69, -55, 59, -64, 68, 49, 48, -63, 67, 57, 56, 63, 72, 37, 64, 73, -46, -54, 50, -62, 58, 65, 74, -61, 66, 75, 76, 77]\n"
          ],
          "name": "stdout"
        }
      ]
    },
    {
      "cell_type": "markdown",
      "metadata": {
        "id": "l_PmzAzxDJHI"
      },
      "source": [
        "## Ordenamos estas respuestas para poder tener una vista mas clara de las opciones posibles de solución"
      ]
    },
    {
      "cell_type": "code",
      "metadata": {
        "colab": {
          "base_uri": "https://localhost:8080/"
        },
        "id": "C83qDnTBnx6x",
        "outputId": "973f2b82-859c-4c18-b135-c6b0b7d50920"
      },
      "source": [
        "unicas_respuestas_posibles = sorted(unicas_respuestas_posibles)\r\n",
        "print(unicas_respuestas_posibles)"
      ],
      "execution_count": 14,
      "outputs": [
        {
          "output_type": "stream",
          "text": [
            "[-69, -68, -67, -66, -65, -64, -63, -62, -61, -60, -59, -58, -57, -56, -55, -54, -53, -52, -51, -50, -49, -48, -47, -46, -45, -44, -43, -42, -41, -40, -39, -38, -37, -36, -35, -34, -33, -32, -31, -30, -29, -28, -27, -26, -25, -24, -23, -22, -21, -20, -19, -18, -17, -16, -15, -14, -13, -12, -11, -10, -9, -8, -7, -6, -5, -4, -3, -2, -1, 0, 1, 2, 3, 4, 5, 6, 7, 8, 9, 10, 11, 12, 13, 14, 15, 16, 17, 18, 19, 20, 21, 22, 23, 24, 25, 26, 27, 28, 29, 30, 31, 32, 33, 34, 35, 36, 37, 38, 39, 40, 41, 42, 43, 44, 45, 46, 47, 48, 49, 50, 51, 52, 53, 54, 55, 56, 57, 58, 59, 60, 61, 62, 63, 64, 65, 66, 67, 68, 69, 70, 71, 72, 73, 74, 75, 76, 77]\n"
          ],
          "name": "stdout"
        }
      ]
    },
    {
      "cell_type": "markdown",
      "metadata": {
        "id": "66eEfsK1DRM6"
      },
      "source": [
        "## Tratamos de identificar si en estas soluciones ahi algun punto medio al que las operaciones no puedan dar solucion"
      ]
    },
    {
      "cell_type": "code",
      "metadata": {
        "colab": {
          "base_uri": "https://localhost:8080/"
        },
        "id": "dR_95AUkoAgT",
        "outputId": "6d015050-5373-4f8d-f1d4-e21218cc8052"
      },
      "source": [
        "todas_opciones_no_tienen_solucion = list()\r\n",
        "for i in range(min(unicas_respuestas_posibles),max(unicas_respuestas_posibles),1):\r\n",
        "  if not i in unicas_respuestas_posibles:\r\n",
        "    todas_opciones_no_tienen_solucion.append(i)\r\n",
        "\r\n",
        "print(\"Min:\", min(unicas_respuestas_posibles), \" Max: \",max(unicas_respuestas_posibles), \" sin solucion: \" ,todas_opciones_no_tienen_solucion)"
      ],
      "execution_count": 15,
      "outputs": [
        {
          "output_type": "stream",
          "text": [
            "Min: -69  Max:  77  sin solucion:  []\n"
          ],
          "name": "stdout"
        }
      ]
    },
    {
      "cell_type": "markdown",
      "metadata": {
        "id": "KSGCh4D2DlGy"
      },
      "source": [
        "## Definimos una funcion que recorre todas las posibles opciones y me retorna todas las operaciones que pueden dar solucion a la respuesta deseada"
      ]
    },
    {
      "cell_type": "code",
      "metadata": {
        "id": "a-7L2Abco5KB"
      },
      "source": [
        "def BuscarTodasRespuestasPara(respuesta:int):\r\n",
        "  todas_las_soluciones_deseadas = list()\r\n",
        "  for rta in respuestas_solucion_entera:\r\n",
        "    if int(rta['rta']) == respuesta:\r\n",
        "      if not rta['operacion'] in todas_las_soluciones_deseadas:\r\n",
        "        todas_las_soluciones_deseadas.append(rta['operacion'])\r\n",
        "\r\n",
        "  return todas_las_soluciones_deseadas"
      ],
      "execution_count": 16,
      "outputs": []
    },
    {
      "cell_type": "code",
      "metadata": {
        "colab": {
          "base_uri": "https://localhost:8080/"
        },
        "id": "qgD_rBcmrZtH",
        "outputId": "feb0b0a5-919b-499d-e0c5-fbc31888c6e9"
      },
      "source": [
        "deseado = 5\r\n",
        "\r\n",
        "soluciones = BuscarTodasRespuestasPara(  deseado  )\r\n",
        "print(len(soluciones))\r\n",
        "\r\n",
        "for rta in soluciones[:10]:\r\n",
        "  print(rta, \"=\", deseado)"
      ],
      "execution_count": 21,
      "outputs": [
        {
          "output_type": "stream",
          "text": [
            "2880\n",
            "1-2+3/4*8 = 5\n",
            "1-2*3/6+5 = 5\n",
            "1-2/3*6+8 = 5\n",
            "1+2*3-8/4 = 5\n",
            "1-2+3*8/4 = 5\n",
            "1/2*4-3+6 = 5\n",
            "1/2*4-5+8 = 5\n",
            "1/2*4+6-3 = 5\n",
            "1-2/4*6+7 = 5\n",
            "1-2+4/6*9 = 5\n"
          ],
          "name": "stdout"
        }
      ]
    },
    {
      "cell_type": "markdown",
      "metadata": {
        "id": "o0rBd9zQD1I5"
      },
      "source": [
        "## Evaluacion del algoritmo"
      ]
    },
    {
      "cell_type": "code",
      "metadata": {
        "id": "HZchuhzCD3l6",
        "colab": {
          "base_uri": "https://localhost:8080/"
        },
        "outputId": "4fc1fbb7-ab7b-41a6-8d8c-057640d4648d"
      },
      "source": [
        "deseado = 4\r\n",
        "\r\n",
        "soluciones = BuscarTodasRespuestasPara(  deseado  )\r\n",
        "\r\n",
        "print(\"Hay {} soluciones posibles que dan la respuesta {}, algunas son: \".format(len(soluciones), deseado) )\r\n",
        "for i in soluciones[:10]:\r\n",
        "  print(i)\r\n"
      ],
      "execution_count": 20,
      "outputs": [
        {
          "output_type": "stream",
          "text": [
            "Hay 2112 soluciones posibles que dan la respuesta 4, algunas son: \n",
            "1-2*3/6+4\n",
            "1-2/3*6+7\n",
            "1/2*4-3+5\n",
            "1/2*4+5-3\n",
            "1/2*4-5+7\n",
            "1*2+4-6/3\n",
            "1/2*4-6+8\n",
            "1/2*4+7-5\n",
            "1/2*4-7+9\n",
            "1/2*4+8-6\n"
          ],
          "name": "stdout"
        }
      ]
    }
  ]
}