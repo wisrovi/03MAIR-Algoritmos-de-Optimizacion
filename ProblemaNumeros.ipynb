{
  "nbformat": 4,
  "nbformat_minor": 0,
  "metadata": {
    "accelerator": "GPU",
    "colab": {
      "name": "Untitled8.ipynb",
      "provenance": [],
      "collapsed_sections": [],
      "authorship_tag": "ABX9TyO2zTnMMquAL4gKRRpjW5nY",
      "include_colab_link": true
    },
    "kernelspec": {
      "display_name": "Python 3",
      "name": "python3"
    }
  },
  "cells": [
    {
      "cell_type": "markdown",
      "metadata": {
        "id": "view-in-github",
        "colab_type": "text"
      },
      "source": [
        "<a href=\"https://colab.research.google.com/github/wisrovi/03MAIR-Algoritmos-de-Optimizacion/blob/main/ProblemaNumeros.ipynb\" target=\"_parent\"><img src=\"https://colab.research.google.com/assets/colab-badge.svg\" alt=\"Open In Colab\"/></a>"
      ]
    },
    {
      "cell_type": "code",
      "metadata": {
        "id": "qfa7vtgO-Re5"
      },
      "source": [
        ""
      ],
      "execution_count": null,
      "outputs": []
    },
    {
      "cell_type": "markdown",
      "metadata": {
        "id": "46r9ox7I-SvX"
      },
      "source": [
        ""
      ]
    },
    {
      "cell_type": "code",
      "metadata": {
        "id": "7RnyO-r0-STy"
      },
      "source": [
        "def ordenar_lista(listado):\r\n",
        "    ordenado = sorted(listado, key=lambda s: (len(s), s))\r\n",
        "    return ordenado\r\n",
        "\r\n",
        "def inserta(x, lst, i):\r\n",
        "    \"\"\"Devuelve una nueva lista resultado de insertar\r\n",
        "       x dentro de lst en la posición i.\r\n",
        "    \"\"\"\r\n",
        "    return lst[:i] + [x] + lst[i:]\r\n",
        "\r\n",
        "def inserta_multiple(x, lst):\r\n",
        "    \"\"\"Devuelve una lista con el resultado de\r\n",
        "       insertar x en todas las posiciones de lst.  \r\n",
        "    \"\"\"\r\n",
        "    return [inserta(x, lst, i) for i in range(len(lst) + 1)]\r\n",
        "\r\n",
        "def permuta(c):\r\n",
        "    \"\"\"Calcula y devuelve una lista con todas las\r\n",
        "       permutaciones posibles que se pueden hacer\r\n",
        "       con los elementos contenidos en c.\r\n",
        "    \"\"\"\r\n",
        "    if len(c) == 0:\r\n",
        "        return [[]]\r\n",
        "    return sum([inserta_multiple(c[0], s)\r\n",
        "                for s in permuta(c[1:])],\r\n",
        "               [])"
      ],
      "execution_count": null,
      "outputs": []
    },
    {
      "cell_type": "code",
      "metadata": {
        "id": "3AGcrmqa-SWg"
      },
      "source": [
        "numeros = ['1', '2', '3', '4', '5', '6', '7', '8', '9']\r\n",
        "signos = ['+', '-', '*', '/']"
      ],
      "execution_count": null,
      "outputs": []
    },
    {
      "cell_type": "code",
      "metadata": {
        "colab": {
          "base_uri": "https://localhost:8080/"
        },
        "id": "vwo3qB80-yLD",
        "outputId": "44a6d96e-f608-46da-bc62-2013af1eb47a"
      },
      "source": [
        "todas_conbinaciones_numeros = ordenar_lista(permuta(numeros))\r\n",
        "todas_conbinaciones_signos = ordenar_lista(permuta(signos))\r\n",
        "print(len(todas_conbinaciones_numeros))\r\n",
        "print(len(todas_conbinaciones_signos))"
      ],
      "execution_count": null,
      "outputs": [
        {
          "output_type": "stream",
          "text": [
            "362880\n",
            "24\n"
          ],
          "name": "stdout"
        }
      ]
    },
    {
      "cell_type": "code",
      "metadata": {
        "colab": {
          "base_uri": "https://localhost:8080/"
        },
        "id": "l8RpnnAQAb8U",
        "outputId": "32ab8644-8c12-4136-c32c-203f144d9fe4"
      },
      "source": [
        "todas_opciones_5_digitos = list()\r\n",
        "for opcion in todas_conbinaciones_numeros:\r\n",
        "  item = opcion[:5]\r\n",
        "  if not item in todas_opciones_5_digitos:\r\n",
        "    todas_opciones_5_digitos.append(item)\r\n",
        "\r\n",
        "print(len(todas_opciones_5_digitos))"
      ],
      "execution_count": null,
      "outputs": [
        {
          "output_type": "stream",
          "text": [
            "15120\n"
          ],
          "name": "stdout"
        }
      ]
    },
    {
      "cell_type": "code",
      "metadata": {
        "colab": {
          "base_uri": "https://localhost:8080/"
        },
        "id": "h8ubT6le_akK",
        "outputId": "01f1b25f-1893-46b3-fe4e-d0b4354fb0cc"
      },
      "source": [
        "operaciones = list()\r\n",
        "for pack_numeros in todas_opciones_5_digitos:\r\n",
        "  for pack_signos in todas_conbinaciones_signos:\r\n",
        "    operacion = pack_numeros[0] + pack_signos[0] + pack_numeros[1] + pack_signos[1] + pack_numeros[2] + pack_signos[2] + pack_numeros[3] + pack_signos[3] + pack_numeros[4]\r\n",
        "    if not operacion in operaciones:\r\n",
        "      operaciones.append(operacion)\r\n",
        "\r\n",
        "print(len(operaciones))"
      ],
      "execution_count": 5,
      "outputs": [
        {
          "output_type": "stream",
          "text": [
            "362880\n"
          ],
          "name": "stdout"
        }
      ]
    },
    {
      "cell_type": "code",
      "metadata": {
        "id": "SvaMvfNkIRX6",
        "colab": {
          "base_uri": "https://localhost:8080/"
        },
        "outputId": "5433c20d-5820-4303-abe2-5f1a69ffb156"
      },
      "source": [
        "print(operaciones[:3])"
      ],
      "execution_count": 6,
      "outputs": [
        {
          "output_type": "stream",
          "text": [
            "['1*2+3-4/5', '1*2+3/4-5', '1*2-3+4/5']\n"
          ],
          "name": "stdout"
        }
      ]
    },
    {
      "cell_type": "code",
      "metadata": {
        "id": "ZzDSR1y8VPwP"
      },
      "source": [
        "todas_respuestas_operaciones = list()\r\n",
        "for opera in operaciones:\r\n",
        "  data = dict()\r\n",
        "  data['operacion'] = operacion\r\n",
        "  data['rta'] = eval(opera)\r\n",
        "\r\n",
        "  todas_respuestas_operaciones.append(data)\r\n",
        "\r\n"
      ],
      "execution_count": 9,
      "outputs": []
    },
    {
      "cell_type": "code",
      "metadata": {
        "colab": {
          "base_uri": "https://localhost:8080/"
        },
        "id": "vK7A20fpWW7m",
        "outputId": "8546d145-f312-4751-8b27-5d893f5141a0"
      },
      "source": [
        "print(len(todas_respuestas_operaciones))"
      ],
      "execution_count": 16,
      "outputs": [
        {
          "output_type": "stream",
          "text": [
            "362880\n"
          ],
          "name": "stdout"
        }
      ]
    },
    {
      "cell_type": "code",
      "metadata": {
        "id": "mlYcTFYMWyQa"
      },
      "source": [
        "respuestas_solucion_entera = list()\r\n",
        "for rta in todas_respuestas_operaciones:\r\n",
        "  if rta['rta'] == int(rta['rta']):\r\n",
        "    respuestas_solucion_entera.append(rta)\r\n"
      ],
      "execution_count": 19,
      "outputs": []
    },
    {
      "cell_type": "code",
      "metadata": {
        "colab": {
          "base_uri": "https://localhost:8080/"
        },
        "id": "fqFHK1JjWyST",
        "outputId": "235327d4-4621-4dc1-d324-546b727ebde9"
      },
      "source": [
        "print(len(respuestas_solucion_entera))"
      ],
      "execution_count": 20,
      "outputs": [
        {
          "output_type": "stream",
          "text": [
            "90000\n"
          ],
          "name": "stdout"
        }
      ]
    },
    {
      "cell_type": "code",
      "metadata": {
        "id": "VC9xC7HXhbkZ"
      },
      "source": [
        "unicas_respuestas_posibles = list()\r\n",
        "for rta in respuestas_solucion_entera:\r\n",
        "  if not rta in unicas_respuestas_posibles:\r\n",
        "    unicas_respuestas_posibles.append(int(rta['rta']))\r\n",
        "\r\n",
        "print(len(unicas_respuestas_posibles))"
      ],
      "execution_count": null,
      "outputs": []
    }
  ]
}