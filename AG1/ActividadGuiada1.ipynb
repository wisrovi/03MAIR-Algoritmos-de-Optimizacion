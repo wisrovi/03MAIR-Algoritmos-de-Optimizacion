{
  "nbformat": 4,
  "nbformat_minor": 0,
  "metadata": {
    "colab": {
      "name": "ActividadGuiada1.ipynb",
      "provenance": [],
      "authorship_tag": "ABX9TyOUWAF1S1EsuPLzap6eiVn7",
      "include_colab_link": true
    },
    "kernelspec": {
      "name": "python3",
      "display_name": "Python 3"
    }
  },
  "cells": [
    {
      "cell_type": "markdown",
      "metadata": {
        "id": "view-in-github",
        "colab_type": "text"
      },
      "source": [
        "<a href=\"https://colab.research.google.com/github/wisrovi/03MAIR-Algoritmos-de-Optimizacion/blob/main/AG1/ActividadGuiada1.ipynb\" target=\"_parent\"><img src=\"https://colab.research.google.com/assets/colab-badge.svg\" alt=\"Open In Colab\"/></a>"
      ]
    },
    {
      "cell_type": "markdown",
      "metadata": {
        "id": "XerjDzFNN8Vo"
      },
      "source": [
        "#  AG1- Actividad Guiada 1<br>\r\n",
        "\r\n",
        "Nombre y Apellidos: William Steve Rodriguez Villamizar  <br>"
      ]
    },
    {
      "cell_type": "markdown",
      "metadata": {
        "id": "JwB5qyz9OFUi"
      },
      "source": [
        "Url: https://github.com/wisrovi/03MAIR---Algoritmos-de-Optimizacion---2019/blob/master/AG1/WilliamSteveRodriguezVillamizar_AG1.ipynb<br>"
      ]
    },
    {
      "cell_type": "code",
      "metadata": {
        "id": "sSfVyz_aN9SP"
      },
      "source": [
        ""
      ],
      "execution_count": null,
      "outputs": []
    }
  ]
}