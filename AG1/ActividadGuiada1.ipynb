{
  "nbformat": 4,
  "nbformat_minor": 0,
  "metadata": {
    "colab": {
      "name": "ActividadGuiada1.ipynb",
      "provenance": [],
      "authorship_tag": "ABX9TyPWvfX3DMP9BXS8T91ExQ0H",
      "include_colab_link": true
    },
    "kernelspec": {
      "name": "python3",
      "display_name": "Python 3"
    }
  },
  "cells": [
    {
      "cell_type": "markdown",
      "metadata": {
        "id": "view-in-github",
        "colab_type": "text"
      },
      "source": [
        "<a href=\"https://colab.research.google.com/github/wisrovi/03MAIR-Algoritmos-de-Optimizacion/blob/main/AG1/ActividadGuiada1.ipynb\" target=\"_parent\"><img src=\"https://colab.research.google.com/assets/colab-badge.svg\" alt=\"Open In Colab\"/></a>"
      ]
    },
    {
      "cell_type": "markdown",
      "metadata": {
        "id": "XerjDzFNN8Vo"
      },
      "source": [
        "#  AG1- Actividad Guiada 1<br>\r\n",
        "\r\n",
        "Nombre y Apellidos: William Steve Rodriguez Villamizar  <br>"
      ]
    },
    {
      "cell_type": "markdown",
      "metadata": {
        "id": "JwB5qyz9OFUi"
      },
      "source": [
        "Url: https://colab.research.google.com/github/wisrovi/03MAIR-Algoritmos-de-Optimizacion/blob/main/AG1/ActividadGuiada1.ipynb<br>"
      ]
    },
    {
      "cell_type": "markdown",
      "metadata": {
        "id": "dempZT9fPUrj"
      },
      "source": [
        "## Torres Hanoi con divide y venceras y recursividad\r\n"
      ]
    },
    {
      "cell_type": "code",
      "metadata": {
        "id": "h5IwEYZTPXy5"
      },
      "source": [
        "def torres_hanoi(N, desde=1, hasta=3):\r\n",
        "  if N==1:\r\n",
        "    print(\"Llevar desde \" + str(desde) + \" hasta \" + str(hasta))\r\n",
        "  else:\r\n",
        "    torres_hanoi(N-1, desde, list({1,2,3} - {desde, hasta})[0])\r\n",
        "    print(\"Llevar desde \" + str(desde) + \" hasta \" + str(hasta))\r\n",
        "    torres_hanoi(N-1, list({1,2,3} - {desde, hasta})[0], hasta)"
      ],
      "execution_count": 1,
      "outputs": []
    },
    {
      "cell_type": "code",
      "metadata": {
        "id": "Xuq-EK8qRVgd",
        "outputId": "3b2929a9-72e8-4a43-84a0-626da5e04255",
        "colab": {
          "base_uri": "https://localhost:8080/"
        }
      },
      "source": [
        "torres_hanoi(4)"
      ],
      "execution_count": 2,
      "outputs": [
        {
          "output_type": "stream",
          "text": [
            "Llevar desde 1 hasta 2\n",
            "Llevar desde 1 hasta 3\n",
            "Llevar desde 2 hasta 3\n",
            "Llevar desde 1 hasta 2\n",
            "Llevar desde 3 hasta 1\n",
            "Llevar desde 3 hasta 2\n",
            "Llevar desde 1 hasta 2\n",
            "Llevar desde 1 hasta 3\n",
            "Llevar desde 2 hasta 3\n",
            "Llevar desde 2 hasta 1\n",
            "Llevar desde 3 hasta 1\n",
            "Llevar desde 2 hasta 3\n",
            "Llevar desde 1 hasta 2\n",
            "Llevar desde 1 hasta 3\n",
            "Llevar desde 2 hasta 3\n"
          ],
          "name": "stdout"
        }
      ]
    },
    {
      "cell_type": "markdown",
      "metadata": {
        "id": "W_wSzFRxaunQ"
      },
      "source": [
        "## Devolucion cambio monedas"
      ]
    },
    {
      "cell_type": "code",
      "metadata": {
        "id": "464QNqQeayD8"
      },
      "source": [
        "def cambio_monedas(CANTIDAD, SISTEMA):\r\n",
        "  SOLUCION = [0 for i in range(len(SISTEMA))]\r\n",
        "  VALOR_ACUMULADO = 0\r\n",
        "  \r\n",
        "  for i in range(len(SISTEMA)):\r\n",
        "    monedas = int((CANTIDAD - VALOR_ACUMULADO)/ SISTEMA[i])\r\n",
        "    SOLUCION[i] = monedas\r\n",
        "    VALOR_ACUMULADO += monedas * SISTEMA[i]\r\n",
        "    if VALOR_ACUMULADO == CANTIDAD: \r\n",
        "      return SOLUCION\r\n",
        "    \r\n",
        "  return SOLUCION"
      ],
      "execution_count": 33,
      "outputs": []
    },
    {
      "cell_type": "code",
      "metadata": {
        "id": "F-q3N_OPa6rP",
        "outputId": "67346823-67e5-4a76-a8aa-0060d7dea810",
        "colab": {
          "base_uri": "https://localhost:8080/"
        }
      },
      "source": [
        "SISTEMA = [25, 10, 5, 1]\r\n",
        "CANTIDAD = 37\r\n",
        "solucion = cambio_monedas(CANTIDAD, SISTEMA)\r\n",
        "\r\n",
        "print(\"Sistema: \", end=\"\")\r\n",
        "print(SISTEMA)\r\n",
        "  \r\n",
        "print(\"Solucion: \", end=\"\")\r\n",
        "print(solucion, end=\"\")\r\n",
        "print(\" para una cantidad de: \", CANTIDAD)"
      ],
      "execution_count": 35,
      "outputs": [
        {
          "output_type": "stream",
          "text": [
            "Sistema: [25, 10, 5, 1]\n",
            "Solucion: [1, 1, 0, 2] para una cantidad de:  37\n"
          ],
          "name": "stdout"
        }
      ]
    },
    {
      "cell_type": "markdown",
      "metadata": {
        "id": "MeoWMnAkbTTJ"
      },
      "source": [
        "## Problema N reinas"
      ]
    },
    {
      "cell_type": "code",
      "metadata": {
        "id": "iCFM6SUFbVl3"
      },
      "source": [
        "#Algoritmo de vuelta atras para el problema de N reinas\r\n",
        "def es_prometedora(solucion, etapa):\r\n",
        "  for i in range(etapa + 1):\r\n",
        "    if solucion.count(solucion[i]) > 1:\r\n",
        "      return False\r\n",
        "    \r\n",
        "    #verificar si son individuales\r\n",
        "    for j in range(i+1, etapa + 1):\r\n",
        "      if abs(i-j) == abs(solucion[i]-solucion[j]):\r\n",
        "        return False\r\n",
        "  return True\r\n",
        "  \r\n",
        "\r\n",
        "def reinas(N, solucion = [], etapa=0):\r\n",
        "  if len(solucion)==0:\r\n",
        "    solucion = [0 for i in range(N)]\r\n",
        "  \r\n",
        "  for i in range(1, N+1):\r\n",
        "    solucion[etapa] = i    \r\n",
        "    if es_prometedora(solucion, etapa):\r\n",
        "      if etapa == N-1:\r\n",
        "        print(\"\\n\\nLa solucion es: \", end=\"\")\r\n",
        "        print(solucion)   \r\n",
        "\r\n",
        "        for i in solucion:   \r\n",
        "          for j in range(len(solucion)):\r\n",
        "            if j+1 == i:\r\n",
        "              print(\"R\", end=\"\")\r\n",
        "            else:\r\n",
        "              print(\"*\", end=\"\")\r\n",
        "          print()\r\n",
        "      else:\r\n",
        "        reinas(N, solucion, etapa+1)        \r\n",
        "    else:\r\n",
        "      None\r\n",
        "      \r\n",
        "    solucion[etapa] = 0"
      ],
      "execution_count": 46,
      "outputs": []
    },
    {
      "cell_type": "code",
      "metadata": {
        "id": "MgbFivb2beEZ",
        "outputId": "b840237e-4933-4b01-85d3-289cd5115e59",
        "colab": {
          "base_uri": "https://localhost:8080/"
        }
      },
      "source": [
        "reinas(4)"
      ],
      "execution_count": 47,
      "outputs": [
        {
          "output_type": "stream",
          "text": [
            "\n",
            "\n",
            "La solucion es: [2, 4, 1, 3]\n",
            "*R**\n",
            "***R\n",
            "R***\n",
            "**R*\n",
            "\n",
            "\n",
            "La solucion es: [3, 1, 4, 2]\n",
            "**R*\n",
            "R***\n",
            "***R\n",
            "*R**\n"
          ],
          "name": "stdout"
        }
      ]
    },
    {
      "cell_type": "markdown",
      "metadata": {
        "id": "EEmE5pDXSNh3"
      },
      "source": [
        "## Distancia dos puntos (1, 2 y 3 dimensiones)"
      ]
    },
    {
      "cell_type": "code",
      "metadata": {
        "id": "KxqUG_2hSP8A"
      },
      "source": [
        "import math\r\n",
        "\r\n",
        "def distancia_dos_puntos(punto1:tuple, punto2:tuple):\r\n",
        "  # http://campusvirtual.cua.uam.mx/pdfs/paea/18o/tm/tema5_cont_c.pdf\r\n",
        "  # https://www.varsitytutors.com/hotmath/hotmath_help/spanish/topics/distance-formula-in-3d\r\n",
        "\r\n",
        "  if len(punto1) ==  len(punto2):\r\n",
        "    if len(punto1) == 1:\r\n",
        "      return abs(punto2[0] - punto1[0])\r\n",
        "    elif len(punto1) == 2:\r\n",
        "      return abs(math.sqrt( pow(punto2[0]-punto1[0],2) + pow(punto2[1]-punto1[1],2) ))\r\n",
        "    elif len(punto1) == 3:\r\n",
        "      return abs(math.sqrt(  pow(punto2[0]-punto1[0],2)  +  pow(punto2[1]-punto1[1],2)  + pow(punto2[2]-punto1[2],2)  ))\r\n",
        "    else:\r\n",
        "      return None\r\n",
        "  else:\r\n",
        "    return None"
      ],
      "execution_count": 27,
      "outputs": []
    },
    {
      "cell_type": "code",
      "metadata": {
        "id": "2aFXOF7dV-Zw",
        "outputId": "72860236-5439-4e70-e243-50f932f59aa1",
        "colab": {
          "base_uri": "https://localhost:8080/"
        }
      },
      "source": [
        "p1 = (1,)\r\n",
        "p2 = (3, )\r\n",
        "\r\n",
        "AB = distancia_dos_puntos(p1, p2)\r\n",
        "print(AB)"
      ],
      "execution_count": 32,
      "outputs": [
        {
          "output_type": "stream",
          "text": [
            "2\n"
          ],
          "name": "stdout"
        }
      ]
    }
  ]
}