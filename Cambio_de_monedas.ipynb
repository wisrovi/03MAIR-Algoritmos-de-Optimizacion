{
  "nbformat": 4,
  "nbformat_minor": 0,
  "metadata": {
    "colab": {
      "name": "Cambio de monedas.ipynb",
      "provenance": [],
      "authorship_tag": "ABX9TyN/M3dWfPlXg97Is7thH64o",
      "include_colab_link": true
    },
    "kernelspec": {
      "name": "python3",
      "display_name": "Python 3"
    }
  },
  "cells": [
    {
      "cell_type": "markdown",
      "metadata": {
        "id": "view-in-github",
        "colab_type": "text"
      },
      "source": [
        "<a href=\"https://colab.research.google.com/github/wisrovi/03MAIR-Algoritmos-de-Optimizacion/blob/main/Cambio_de_monedas.ipynb\" target=\"_parent\"><img src=\"https://colab.research.google.com/assets/colab-badge.svg\" alt=\"Open In Colab\"/></a>"
      ]
    },
    {
      "cell_type": "markdown",
      "metadata": {
        "id": "DdLg0uEBtn3V"
      },
      "source": [
        "# Cambio de monedas"
      ]
    },
    {
      "cell_type": "code",
      "metadata": {
        "id": "Qhc2nB-itps2"
      },
      "source": [
        "def cambio_monedas(CANTIDAD, SISTEMA):\r\n",
        "  SOLUCION = [0 for i in range(len(SISTEMA))]\r\n",
        "  VALOR_ACUMULADO = 0\r\n",
        "  \r\n",
        "  for i in range(len(SISTEMA)):\r\n",
        "    monedas = int((CANTIDAD - VALOR_ACUMULADO)/ SISTEMA[i])\r\n",
        "    SOLUCION[i] = monedas\r\n",
        "    VALOR_ACUMULADO += monedas * SISTEMA[i]\r\n",
        "    if VALOR_ACUMULADO == CANTIDAD: \r\n",
        "      return SOLUCION\r\n",
        "    \r\n",
        "  return SOLUCION"
      ],
      "execution_count": 1,
      "outputs": []
    },
    {
      "cell_type": "code",
      "metadata": {
        "colab": {
          "base_uri": "https://localhost:8080/"
        },
        "id": "gpaLgTmrtslT",
        "outputId": "a7aec472-ab02-43a8-c2ea-605038f1e03c"
      },
      "source": [
        "SISTEMA = [25, 10, 5, 1]\r\n",
        "CANTIDAD = 234\r\n",
        "solucion = cambio_monedas(CANTIDAD, SISTEMA)\r\n",
        "\r\n",
        "print(\"Sistema: \", end=\"\")\r\n",
        "print(SISTEMA)\r\n",
        "  \r\n",
        "print(\"Solucion: \", end=\"\")\r\n",
        "print(solucion, end=\"\")\r\n",
        "print(\" para una cantidad de: \", CANTIDAD)"
      ],
      "execution_count": 2,
      "outputs": [
        {
          "output_type": "stream",
          "text": [
            "Sistema: [25, 10, 5, 1]\n",
            "Solucion: [9, 0, 1, 4] para una cantidad de:  234\n"
          ],
          "name": "stdout"
        }
      ]
    }
  ]
}