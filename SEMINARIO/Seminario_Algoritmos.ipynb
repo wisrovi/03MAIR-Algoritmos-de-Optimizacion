{
  "nbformat": 4,
  "nbformat_minor": 0,
  "metadata": {
    "colab": {
      "name": "Seminario - Algoritmos.ipynb",
      "provenance": [],
      "collapsed_sections": [],
      "include_colab_link": true
    },
    "kernelspec": {
      "name": "python3",
      "display_name": "Python 3"
    }
  },
  "cells": [
    {
      "cell_type": "markdown",
      "metadata": {
        "id": "view-in-github",
        "colab_type": "text"
      },
      "source": [
        "<a href=\"https://colab.research.google.com/github/wisrovi/03MAIR-Algoritmos-de-Optimizacion/blob/main/SEMINARIO/Seminario_Algoritmos.ipynb\" target=\"_parent\"><img src=\"https://colab.research.google.com/assets/colab-badge.svg\" alt=\"Open In Colab\"/></a>"
      ]
    },
    {
      "cell_type": "markdown",
      "metadata": {
        "id": "hVbXYX-RfPWh"
      },
      "source": [
        "# Algoritmos de optimización - Seminario<br>\n",
        "Nombre y Apellidos: William Steve Rodriguez Villamizar   <br>\n",
        "Url: https://github.com/wisrovi/03MAIR-Algoritmos-de-Optimizacion/blob/main/SEMINARIO/Seminario_Algoritmos.ipynb<br>\n",
        "colab: https://colab.research.google.com/github/wisrovi/03MAIR-Algoritmos-de-Optimizacion/blob/main/SEMINARIO/Seminario_Algoritmos.ipynb <br>\n",
        "\n",
        "\n",
        "\n",
        "\n",
        "\n",
        "\n",
        "                                        "
      ]
    },
    {
      "cell_type": "markdown",
      "metadata": {
        "id": "yMGgtCBaWaFC"
      },
      "source": [
        "## Problema"
      ]
    },
    {
      "cell_type": "markdown",
      "metadata": {
        "id": "-JXTsv9kWb0R"
      },
      "source": [
        "Problema:\r\n",
        ">3. Combinar cifras y operaciones\r\n",
        "\r\n",
        "Descripción del problema:<br>\r\n",
        "Disponemos de las 9 cifras del 1 al 9 (excluimos el cero) y de los 4 signos básicos de las operaciones fundamentales: suma(+), resta(-), multiplicación(*) y división(/).\r\n",
        "Debemos combinarlos alternativamente sin repetir ninguno de ellos para obtener una cantidad dada\r\n",
        "\r\n",
        "....\r\n",
        "\r\n",
        "(*) La respuesta es obligatoria"
      ]
    },
    {
      "cell_type": "markdown",
      "metadata": {
        "id": "o80G35aqTVSA"
      },
      "source": [
        " *************************************************************************************"
      ]
    },
    {
      "cell_type": "markdown",
      "metadata": {
        "id": "DPnaqZX5WPfa"
      },
      "source": [
        "## Preguntas "
      ]
    },
    {
      "cell_type": "markdown",
      "metadata": {
        "id": "3_-exlrTgLd-"
      },
      "source": [
        "(*)¿Cuantas posibilidades hay sin tener en cuenta las restricciones?<br>\n",
        "\n",
        "\n",
        "\n",
        "¿Cuantas posibilidades hay teniendo en cuenta todas las restricciones.\n",
        "\n",
        "Restricciones\n",
        "\n",
        "- Valores enteros posibles\n",
        "- No se puede iniciar o finalizar la cadena con un signo\n"
      ]
    },
    {
      "cell_type": "markdown",
      "metadata": {
        "id": "WfCUqJyKhPcw"
      },
      "source": [
        "Respuesta"
      ]
    },
    {
      "cell_type": "code",
      "metadata": {
        "id": "iq6Fe32MgpDX"
      },
      "source": [
        "# Se presenta a continuación el conteo de todas las soluciones posibles, pero cabe aclarar que solo se desean soluciones enteras (según expresado por el docente en clase), \r\n",
        "# con lo cual se determina todo el conjunto de soluciones, pero teniendo en cuenta cualquier solucion posible, teniendo en cuenta soluciones enteras y soluciones flotantes\r\n",
        "\r\n",
        "# Combinaciones de numeros\r\n",
        "# 9 * 8 * 7 * 6 * 5 = 15120\r\n",
        "\r\n",
        "# Cominaciones de signos\r\n",
        "# 4 * 3 * 2 * 1 = 24\r\n",
        "\r\n",
        "# Combinaciones totales (cada combinacion de numeros con cada combinacion de signos):\r\n",
        "# 15120 * 24 = 362880\r\n",
        "\r\n",
        "# Hay 362880 posibles soluciones sin tener en cuenta la restricción de solo filtrar numeros enteros\r\n",
        "\r\n",
        "# **************************************************************\r\n",
        "\r\n",
        "# Ahora, estas soluciones contemplan tambien soluciones flotantes, si deseamos solo las soluciones enteras (parte del requerimiento), deberiamos hallar todas las soluciones \r\n",
        "# y filtrar para dejar solo las enteras\r\n",
        "\r\n",
        "# Esto se hace de manera practica, y mas abajo en el codigo de fuerza bruta se hallara un dato de \r\n",
        "# 90000 soluciones enteras (de las 362880 totales)\r\n",
        "\r\n",
        "# Por tanto teniendo en cuenta todas las restricciones se tienen 90000 soluciones posibles"
      ],
      "execution_count": 1,
      "outputs": []
    },
    {
      "cell_type": "markdown",
      "metadata": {
        "id": "dzynfVJahHoY"
      },
      "source": [
        "Modelo para el espacio de soluciones<br>\n",
        "(*) ¿Cual es la estructura de datos que mejor se adapta al problema? Argumentalo.(Es posible que hayas elegido una al principio y veas la necesidad de cambiar, arguentalo)\n"
      ]
    },
    {
      "cell_type": "markdown",
      "metadata": {
        "id": "xFIJrOwKi2Ti"
      },
      "source": [
        "Respuesta"
      ]
    },
    {
      "cell_type": "code",
      "metadata": {
        "id": "38c-7-ejhJmA"
      },
      "source": [
        "# Los números a usar serán representados mediante una tupla de 5 números, puediendo ser estos del 1-9 y distintos, como se indica en el enunciado.\r\n",
        "\r\n",
        "# Respecto a los operadores, se comenzó con todas las posibles combinaciones de los mismos (4! combinaciones) "
      ],
      "execution_count": 2,
      "outputs": []
    },
    {
      "cell_type": "markdown",
      "metadata": {
        "id": "7Z9U2W7bi-XS"
      },
      "source": [
        "Según el modelo para el espacio de soluciones<br>\n",
        "(*)¿Cual es la función objetivo?\n",
        "\n",
        "(*)¿Es un problema de maximización o minimización?"
      ]
    },
    {
      "cell_type": "markdown",
      "metadata": {
        "id": "hBalWLM7j1_d"
      },
      "source": [
        "Respuesta"
      ]
    },
    {
      "cell_type": "code",
      "metadata": {
        "id": "pDA-rg3Gj5Lz"
      },
      "source": [
        "# La funcion objetivo es la busqueda de combinaciones que se de un numero entero especificado. \r\n",
        "\r\n",
        "# Es un problema de busqueda ya que el objetivo es hallar todos los valores enteros posibles con las restricciones (no de maximización o minimización)"
      ],
      "execution_count": 3,
      "outputs": []
    },
    {
      "cell_type": "markdown",
      "metadata": {
        "id": "kTPjX9riVubk"
      },
      "source": [
        "************************************************************************************************"
      ]
    },
    {
      "cell_type": "markdown",
      "metadata": {
        "id": "rlnTYgY1j6I2"
      },
      "source": [
        "## Diseña un algoritmo para resolver el problema por fuerza bruta"
      ]
    },
    {
      "cell_type": "markdown",
      "metadata": {
        "id": "70rDgxYXkC8r"
      },
      "source": [
        "Respuesta"
      ]
    },
    {
      "cell_type": "code",
      "metadata": {
        "id": "VfWY7ODMb3L4"
      },
      "source": [
        "signos = ['+', '-', '*', '/']\r\n",
        "numeros = list(range(1,10,1))"
      ],
      "execution_count": 4,
      "outputs": []
    },
    {
      "cell_type": "code",
      "metadata": {
        "id": "YOGRvTJbMdtm"
      },
      "source": [
        "## Funciones\r\n",
        "\r\n",
        "todas_respuestas_operaciones = list()\r\n",
        "operaciones = list()\r\n",
        "\r\n",
        "from itertools import * \r\n",
        "def CreateTodasCombinaciones(lista, limite=None):\r\n",
        "  if limite is not None:\r\n",
        "    return list(permutations(lista, limite))\r\n",
        "  return list(permutations(lista))\r\n",
        "\r\n",
        "def BuscarRespuestasPara(rta):\r\n",
        "  respuestas = list()\r\n",
        "  for i, n in enumerate(todas_respuestas_operaciones):\r\n",
        "    if n == rta:\r\n",
        "      respuestas.append(operaciones[i])\r\n",
        "  return respuestas"
      ],
      "execution_count": 5,
      "outputs": []
    },
    {
      "cell_type": "markdown",
      "metadata": {
        "id": "ZIltci0IRmOd"
      },
      "source": [
        "Para el calculo de posibles combinaciones con Restricciones ejecutamos el siguiente script :\r\n",
        "- Realizo el ciclo con la evaluacion de todas las combinaciones de 5 digitos y 4 signos\r\n",
        "- Para cada expresion evaluo el valor resultante\r\n",
        "- Evaluo si es un numero Entero\r\n",
        "- Si es un numero Entero entonces guardo la expresion\r\n",
        "- Guardo el numero entero resultante en un conjunto SET(), así voy a tener la cantidad de enteros diferentes que se puedan obtener\r\n",
        "- Obtengo todas las expresiones que pueden generar un numero especifico.\r\n",
        "- El conjunto SET me permite contar sin repeticiones cuantos enteros diferentes fueron generados"
      ]
    },
    {
      "cell_type": "code",
      "metadata": {
        "id": "yGzQT50Jb6gG",
        "colab": {
          "base_uri": "https://localhost:8080/"
        },
        "outputId": "4e69f8f3-5334-4282-b265-5e94dc247044"
      },
      "source": [
        "## Hallando todas las respuestas para todas las combinaciones de numeros junto a todas las combinaciones de signos\r\n",
        "\r\n",
        "todas_conbinaciones_signos = CreateTodasCombinaciones(signos)\r\n",
        "\r\n",
        "for val in CreateTodasCombinaciones(numeros, 5):\r\n",
        "  for sig in todas_conbinaciones_signos:\r\n",
        "    expresion = str(val[0]) + sig[0] + str(val[1]) +sig[1]+ str(val[2]) + sig[2] + str(val[3]) + sig[3] + str(val[4])    \r\n",
        "\r\n",
        "    resultado = eval(expresion)\r\n",
        "    if resultado == int(resultado): ## filtro y dejo solo soluciones enteras\r\n",
        "      todas_respuestas_operaciones.append(resultado)\r\n",
        "      operaciones.append(expresion)\r\n",
        "\r\n",
        "## imprimo todas las posibles opciones de combinaciones con respuesta entera\r\n",
        "print(\"Todas las posibles opciones de combinaciones con respuesta entera: \", len(operaciones))  "
      ],
      "execution_count": 6,
      "outputs": [
        {
          "output_type": "stream",
          "text": [
            "Todas las posibles opciones de combinaciones con respuesta entera:  90000\n"
          ],
          "name": "stdout"
        }
      ]
    },
    {
      "cell_type": "code",
      "metadata": {
        "id": "iOmENwqwb9t3",
        "colab": {
          "base_uri": "https://localhost:8080/"
        },
        "outputId": "dc8172be-5041-45dc-af19-538443c30f03"
      },
      "source": [
        "## Buscando en el intervalo de respuestas si para algun valor no ahi respuesta posible\r\n",
        "\r\n",
        "faltantes = list()\r\n",
        "\r\n",
        "todas_las_soluciones = set(todas_respuestas_operaciones)\r\n",
        "for n in list(range(int(min(todas_las_soluciones)),int(max(todas_las_soluciones)),1)):\r\n",
        "  if not n in todas_las_soluciones:\r\n",
        "    faltantes.append(n)\r\n",
        "\r\n",
        "print(\"Numeros sin posible solucion en el intervalo [{},{}]: {}\".format(int(min(todas_las_soluciones)), int(max(todas_las_soluciones)), faltantes))"
      ],
      "execution_count": 7,
      "outputs": [
        {
          "output_type": "stream",
          "text": [
            "Numeros sin posible solucion en el intervalo [-69,77]: []\n"
          ],
          "name": "stdout"
        }
      ]
    },
    {
      "cell_type": "markdown",
      "metadata": {
        "id": "lNT4cEUTR87M"
      },
      "source": [
        "**Conclusion** \r\n",
        "\r\n",
        "- Minimo valor entero generado es -69\r\n",
        "- Maximo valor entero generado es 77\r\n",
        "- Cantidad de numeros enteros sin repeticion es 147\r\n",
        "- Total de combinaciones que generan numeros enteros es de 90.000\r\n",
        "- Cantidad de numeros enteros diferentes entre el rango del minimo y Maximo seria $77-(-69)+1 = 147$ por tanto en el rango si es posible representar todos los enteros."
      ]
    },
    {
      "cell_type": "code",
      "metadata": {
        "id": "eJYUtX451iV0"
      },
      "source": [
        "## Cuento cuantas respuestas son posibles para todas las determinadas soluciones\r\n",
        "\r\n",
        "conteo_soluciones = list()\r\n",
        "for i in range(int(min(todas_las_soluciones)), int(max(todas_las_soluciones))+1, 1):\r\n",
        "  todas_soluciones_para_i = len(BuscarRespuestasPara(i))\r\n",
        "  conteo_soluciones.append( { 'i' : i, 's': todas_soluciones_para_i  } )\r\n",
        "\r\n",
        "# print(conteo_soluciones)"
      ],
      "execution_count": 8,
      "outputs": []
    },
    {
      "cell_type": "code",
      "metadata": {
        "id": "_VVv4_sIcHFm",
        "colab": {
          "base_uri": "https://localhost:8080/"
        },
        "outputId": "ac8e5e4e-07ed-450b-f999-1a46281ae4ba"
      },
      "source": [
        "# Test, hallar las posibles soluciones para 4\r\n",
        "numero_hallar = 4\r\n",
        "\r\n",
        "t_rta = BuscarRespuestasPara(numero_hallar)\r\n",
        "print(\"El numero {} tiene {} soluciones\".format(numero_hallar , len(t_rta)))\r\n",
        "print(\"Las 5 primeras soluciones son:\", t_rta[:5])"
      ],
      "execution_count": 9,
      "outputs": [
        {
          "output_type": "stream",
          "text": [
            "El numero 4 tiene 2112 soluciones\n",
            "Las 5 primeras soluciones son: ['1-2*3/6+4', '1-2/3*6+7', '1/2*4-3+5', '1/2*4+5-3', '1/2*4-5+7']\n"
          ],
          "name": "stdout"
        }
      ]
    },
    {
      "cell_type": "markdown",
      "metadata": {
        "id": "tgrnsC2nkFa8"
      },
      "source": [
        "Calcula la complejidad del algoritmo por fuerza bruta"
      ]
    },
    {
      "cell_type": "markdown",
      "metadata": {
        "id": "9eUd3xwckP68"
      },
      "source": [
        "Respuesta"
      ]
    },
    {
      "cell_type": "code",
      "metadata": {
        "id": "rvZWwL-ckRST"
      },
      "source": [
        "# Tres bucles, uno para recorrer el vector de combinaciones de numeros, otros para recorres el vector de combinaciones de\r\n",
        "\r\n",
        "# signos y finalmente otro para recorrer cada set y combinar los signos con los numeros\r\n",
        "\r\n",
        "# Siendo N el numero de combinaciones de numeros del 0 al 9,\r\n",
        "\r\n",
        "# M es el numero de combinaciones de signos y\r\n",
        "\r\n",
        "# L es el numero de elementos de la cadena final que se va a evaluar\r\n",
        "\r\n",
        "# entonces la complejidad seria $O(N*M*L)$ = O(n^3)"
      ],
      "execution_count": 10,
      "outputs": []
    },
    {
      "cell_type": "markdown",
      "metadata": {
        "id": "Lbr8wMikT66b"
      },
      "source": [
        "Por tanto se representa su complejidad como $ O(n^3) $"
      ]
    },
    {
      "cell_type": "markdown",
      "metadata": {
        "id": "SCC1XPDqT9yI"
      },
      "source": [
        "***************************************************************************************************************\r\n"
      ]
    },
    {
      "cell_type": "markdown",
      "metadata": {
        "id": "txbrmLmskReM"
      },
      "source": [
        "## (*)Diseña un algoritmo que mejore la complejidad del algortimo por fuerza bruta. Argumenta porque crees que mejora el algoritmo por fuerza bruta"
      ]
    },
    {
      "cell_type": "markdown",
      "metadata": {
        "id": "hLrVwt5QkZPD"
      },
      "source": [
        "Respuesta"
      ]
    },
    {
      "cell_type": "code",
      "metadata": {
        "id": "m1eyM21Vkabg",
        "colab": {
          "base_uri": "https://localhost:8080/"
        },
        "outputId": "10b7531b-cc91-4a90-9e6a-3a4c99834856"
      },
      "source": [
        "def product(*args, repeat=1):\r\n",
        "    # product('ABCD', 'xy') --> Ax Ay Bx By Cx Cy Dx Dy\r\n",
        "    # product(range(2), repeat=3) --> 000 001 010 011 100 101 110 111\r\n",
        "    pools = [tuple(pool) for pool in args] * repeat\r\n",
        "    result = [[]]\r\n",
        "    for pool in pools:\r\n",
        "        result = [x+[y] for x in result for y in pool]\r\n",
        "    for prod in result:\r\n",
        "        yield tuple(prod)\r\n",
        "\r\n",
        "\r\n",
        "def permutations(iterable, r=None):\r\n",
        "    pool = tuple(iterable)\r\n",
        "    n = len(pool)\r\n",
        "    r = n if r is None else r\r\n",
        "    for indices in product(range(n), repeat=r):\r\n",
        "        if len(set(indices)) == r:\r\n",
        "            yield tuple(pool[i] for i in indices)\r\n",
        "\r\n",
        "soluciones_no_fuerza_bruta = list(permutations('123456789', 5)        )\r\n",
        "signos_no_fuerza_bruta = list(permutations('/*-+'))\r\n",
        "\r\n",
        "todas_combinaciones_no_fuerza_bruta = list()\r\n",
        "for a in soluciones_no_fuerza_bruta:\r\n",
        "  for s in signos_no_fuerza_bruta:    \r\n",
        "    operacion_no_fuerza_bruta = ( a[0], s[0], a[1], s[1], a[2], s[2], a[3], s[3], a[4] )\r\n",
        "    expresion = str(a[0] + s[0] + a[1] + s[1] + a[2] + s[2] + a[3] + s[3] + a[4])\r\n",
        "    resultado = eval(expresion)\r\n",
        "    if resultado == int(resultado): ## filtro y dejo solo soluciones enteras\r\n",
        "      todas_combinaciones_no_fuerza_bruta.append(expresion)\r\n",
        "print(len(todas_combinaciones_no_fuerza_bruta), todas_combinaciones_no_fuerza_bruta[:10])\r\n",
        "\r\n",
        "\r\n",
        "# Bibliografia https://docs.python.org/3.1/library/itertools.html?highlight=combinations"
      ],
      "execution_count": 11,
      "outputs": [
        {
          "output_type": "stream",
          "text": [
            "90000 ['1-2+3*4/6', '1+2-3*4/6', '1-2+3/4*8', '1+2-3/4*8', '1-2/3*6+4', '1-2*3/6+4', '1-2+3/6*4', '1+2/3*6-4', '1+2*3/6-4', '1+2-3/6*4']\n"
          ],
          "name": "stdout"
        }
      ]
    },
    {
      "cell_type": "code",
      "metadata": {
        "id": "Z2JYGoMXagzV"
      },
      "source": [
        "def Hallar_No_Fuerza_bruta(numero):\r\n",
        "  respuestas_deseadas = list()\r\n",
        "  for exp in todas_combinaciones_no_fuerza_bruta:\r\n",
        "    rta = eval(exp)\r\n",
        "    if rta == numero:\r\n",
        "      respuestas_deseadas.append(exp)\r\n",
        "  return respuestas_deseadas"
      ],
      "execution_count": 12,
      "outputs": []
    },
    {
      "cell_type": "markdown",
      "metadata": {
        "id": "eGDB4K6uk1iN"
      },
      "source": [
        "(*)Calcula la complejidad del algoritmo "
      ]
    },
    {
      "cell_type": "markdown",
      "metadata": {
        "id": "NhpTh_BPk1ms"
      },
      "source": [
        "Respuesta"
      ]
    },
    {
      "cell_type": "code",
      "metadata": {
        "id": "nREzhkStlCq8"
      },
      "source": [
        "# La complejidad se reduce por que solo requiere dos bucles para realizar las permutaciones entre numeros y signos\r\n",
        "\r\n",
        "# Por tanto se representa su complejidad como O(n^2)"
      ],
      "execution_count": 13,
      "outputs": []
    },
    {
      "cell_type": "markdown",
      "metadata": {
        "id": "-09__LLaZBDy"
      },
      "source": [
        "Por tanto se representa su complejidad como $ O(n^2) $"
      ]
    },
    {
      "cell_type": "markdown",
      "metadata": {
        "id": "_eDUHqfGZCin"
      },
      "source": [
        "******************************************************"
      ]
    },
    {
      "cell_type": "markdown",
      "metadata": {
        "id": "3M6QjTsSkmYe"
      },
      "source": [
        "Según el problema (y tenga sentido), diseña un juego de datos de entrada aleatorios"
      ]
    },
    {
      "cell_type": "markdown",
      "metadata": {
        "id": "Jc3_OlyNkvjZ"
      },
      "source": [
        "Respuesta"
      ]
    },
    {
      "cell_type": "code",
      "metadata": {
        "id": "sJ-N2etjkyWc",
        "colab": {
          "base_uri": "https://localhost:8080/"
        },
        "outputId": "0100b574-7a41-4fbc-c6c8-01ed4cab31b4"
      },
      "source": [
        "import numpy as np\r\n",
        "\r\n",
        "cantidad_datos_aleatorios = 10\r\n",
        "\r\n",
        "datos_aleatorios_test_algoritmo = [np.random.randint(-69,78) for _ in range(cantidad_datos_aleatorios)]\r\n",
        "\r\n",
        "print(datos_aleatorios_test_algoritmo)"
      ],
      "execution_count": 14,
      "outputs": [
        {
          "output_type": "stream",
          "text": [
            "[45, -5, 65, -27, 4, -9, 42, 32, 36, -25]\n"
          ],
          "name": "stdout"
        }
      ]
    },
    {
      "cell_type": "markdown",
      "metadata": {
        "id": "zy5ZROmjlGo1"
      },
      "source": [
        "Aplica el algoritmo al juego de datos generado"
      ]
    },
    {
      "cell_type": "markdown",
      "metadata": {
        "id": "_Cmj-PVylMsa"
      },
      "source": [
        "Respuesta"
      ]
    },
    {
      "cell_type": "code",
      "metadata": {
        "id": "Jkx8GeiYlUz1",
        "colab": {
          "base_uri": "https://localhost:8080/"
        },
        "outputId": "a7c544df-b125-42cf-acbb-67836fcaa2b3"
      },
      "source": [
        "for n in datos_aleatorios_test_algoritmo:\r\n",
        "  rta = Hallar_No_Fuerza_bruta(n)\r\n",
        "  print(\"Para el numero {} ahi {} posibles soluciones, las 5 primeras son {}\".format(n, len(rta), rta[:5]))"
      ],
      "execution_count": 15,
      "outputs": [
        {
          "output_type": "stream",
          "text": [
            "Para el numero 45 ahi 304 posibles soluciones, las 5 primeras son ['2/1-5+6*8', '2/1-5+8*6', '2/1+6*8-5', '2/1+8*6-5', '2-5/1+6*8']\n",
            "Para el numero -5 ahi 1136 posibles soluciones, las 5 primeras son ['1+2*3/6-7', '1+2-4/3*6', '1-2*4+6/3', '1+2-4*6/3', '1+2/4*6-9']\n",
            "Para el numero 65 ahi 160 posibles soluciones, las 5 primeras son ['4/1-2+7*9', '4/1-2+9*7', '4/1+7*9-2', '4/1+9*7-2', '4-2/1+7*9']\n",
            "Para el numero -27 ahi 288 posibles soluciones, las 5 primeras son ['1+4/2-5*6', '1+4/2-6*5', '1-5*6+4/2', '1-5*6+8/4', '1-6*5+4/2']\n",
            "Para el numero 4 ahi 2112 posibles soluciones, las 5 primeras son ['1-2*3/6+4', '1-2/3*6+7', '1/2*4-3+5', '1/2*4+5-3', '1/2*4-5+7']\n",
            "Para el numero -9 ahi 768 posibles soluciones, las 5 primeras son ['1+2-4/3*9', '1+2-4*9/3', '1+2-6/4*8', '1-2*6+8/4', '1+2-6*8/4']\n",
            "Para el numero 42 ahi 376 posibles soluciones, las 5 primeras son ['1+5*9-8/2', '1-8/2+5*9', '1-8/2+9*5', '1+9*5-8/2', '2+6*7-8/4']\n",
            "Para el numero 32 ahi 472 posibles soluciones, las 5 primeras son ['1+5*7-8/2', '1-5+8/2*9', '1-5+8*9/2', '1-5+9/2*8', '1-5+9*8/2']\n",
            "Para el numero 36 ahi 560 posibles soluciones, las 5 primeras son ['2/1+5*8-6', '2/1-6+5*8', '2/1+6*7-8', '2/1-6+8*5', '2/1+7*6-8']\n",
            "Para el numero -25 ahi 376 posibles soluciones, las 5 primeras son ['1-4*7+6/3', '1-5*6+8/2', '1+6/3-4*7', '1+6/3-7*4', '1-6*5+8/2']\n"
          ],
          "name": "stdout"
        }
      ]
    },
    {
      "cell_type": "markdown",
      "metadata": {
        "id": "G1-lSC2-V-28"
      },
      "source": [
        "****************************************************************"
      ]
    },
    {
      "cell_type": "markdown",
      "metadata": {
        "id": "oT40JfO0WAPz"
      },
      "source": [
        "## Conclusiones"
      ]
    },
    {
      "cell_type": "markdown",
      "metadata": {
        "id": "eTFWUJQrtGcv"
      },
      "source": [
        "Enumera las referencias que has utilizado(si ha sido necesario) para llevar a cabo el trabajo"
      ]
    },
    {
      "cell_type": "markdown",
      "metadata": {
        "id": "YKQ_mRBttWsP"
      },
      "source": [
        "Respuesta"
      ]
    },
    {
      "cell_type": "markdown",
      "metadata": {
        "id": "x9lXb0gVcmDx"
      },
      "source": [
        "- utilizacion de python itertools <br/>\r\n",
        "    https://docs.python.org/3.1/library/itertools.html?highlight=combinations\r\n",
        "\r\n",
        "- Permutaciones python\r\n",
        "    http://edupython.blogspot.com/2016/06/combinaciones-permutaciones-y-otras.html"
      ]
    },
    {
      "cell_type": "markdown",
      "metadata": {
        "id": "kAkDPUyRtYyH"
      },
      "source": [
        "Describe brevemente las lineas de como crees que es posible avanzar en el estudio del problema. Ten en cuenta incluso posibles variaciones del problema y/o variaciones al alza del tamaño"
      ]
    },
    {
      "cell_type": "markdown",
      "metadata": {
        "id": "IE0uZmo-tZu-"
      },
      "source": [
        "Respuesta"
      ]
    },
    {
      "cell_type": "markdown",
      "metadata": {
        "id": "lUJlSoyIdC1a"
      },
      "source": [
        "- Repetir signos y números, incluso usar mas numeros en lugar de sólo 5, permitiria aumentar las soluciones sin cambiar la complejidad"
      ]
    }
  ]
}