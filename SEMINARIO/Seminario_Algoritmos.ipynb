{
  "nbformat": 4,
  "nbformat_minor": 0,
  "metadata": {
    "colab": {
      "name": "Seminario - Algoritmos.ipynb",
      "provenance": [],
      "collapsed_sections": [],
      "include_colab_link": true
    },
    "kernelspec": {
      "name": "python3",
      "display_name": "Python 3"
    },
    "accelerator": "GPU"
  },
  "cells": [
    {
      "cell_type": "markdown",
      "metadata": {
        "id": "view-in-github",
        "colab_type": "text"
      },
      "source": [
        "<a href=\"https://colab.research.google.com/github/wisrovi/03MAIR-Algoritmos-de-Optimizacion/blob/main/SEMINARIO/Seminario_Algoritmos.ipynb\" target=\"_parent\"><img src=\"https://colab.research.google.com/assets/colab-badge.svg\" alt=\"Open In Colab\"/></a>"
      ]
    },
    {
      "cell_type": "markdown",
      "metadata": {
        "id": "hVbXYX-RfPWh"
      },
      "source": [
        "# Algoritmos de optimización - Seminario<br>\n",
        "Nombre y Apellidos: William Steve Rodriguez Villamizar   <br>\n",
        "Url: https://github.com/wisrovi/03MAIR-Algoritmos-de-Optimizacion/blob/main/SEMINARIO/Seminario_Algoritmos.ipynb<br>\n",
        "colab: https://colab.research.google.com/github/wisrovi/03MAIR-Algoritmos-de-Optimizacion/blob/main/SEMINARIO/Seminario_Algoritmos.ipynb <br>\n",
        "Problema:\n",
        "> 1. Sesiones de doblaje <br>\n",
        ">2. Organizar los horarios de partidos de La Liga<br>\n",
        ">3. Combinar cifras y operaciones\n",
        "\n",
        "Descripción del problema:<br>\n",
        "Disponemos de las 9 cifras del 1 al 9 (excluimos el cero) y de los 4 signos básicos de las operaciones fundamentales: suma(+), resta(-), multiplicación(*) y división(/).\n",
        "Debemos combinarlos alternativamente sin repetir ninguno de ellos para obtener una cantidad dada\n",
        "\n",
        "....\n",
        "\n",
        "(*) La respuesta es obligatoria\n",
        "\n",
        "\n",
        "\n",
        "\n",
        "\n",
        "                                        "
      ]
    },
    {
      "cell_type": "code",
      "metadata": {
        "id": "AiskKkzZfy4e"
      },
      "source": [
        ""
      ],
      "execution_count": null,
      "outputs": []
    },
    {
      "cell_type": "markdown",
      "metadata": {
        "id": "3_-exlrTgLd-"
      },
      "source": [
        "(*)¿Cuantas posibilidades hay sin tener en cuenta las restricciones?<br>\n",
        "\n",
        "\n",
        "\n",
        "¿Cuantas posibilidades hay teniendo en cuenta todas las restricciones.\n",
        "\n",
        "\n"
      ]
    },
    {
      "cell_type": "markdown",
      "metadata": {
        "id": "WfCUqJyKhPcw"
      },
      "source": [
        "Respuesta"
      ]
    },
    {
      "cell_type": "code",
      "metadata": {
        "id": "iq6Fe32MgpDX"
      },
      "source": [
        ""
      ],
      "execution_count": null,
      "outputs": []
    },
    {
      "cell_type": "markdown",
      "metadata": {
        "id": "dzynfVJahHoY"
      },
      "source": [
        "Modelo para el espacio de soluciones<br>\n",
        "(*) ¿Cual es la estructura de datos que mejor se adapta al problema? Argumentalo.(Es posible que hayas elegido una al principio y veas la necesidad de cambiar, arguentalo)\n"
      ]
    },
    {
      "cell_type": "markdown",
      "metadata": {
        "id": "xFIJrOwKi2Ti"
      },
      "source": [
        "Respuesta"
      ]
    },
    {
      "cell_type": "code",
      "metadata": {
        "id": "38c-7-ejhJmA"
      },
      "source": [
        ""
      ],
      "execution_count": null,
      "outputs": []
    },
    {
      "cell_type": "markdown",
      "metadata": {
        "id": "7Z9U2W7bi-XS"
      },
      "source": [
        "Según el modelo para el espacio de soluciones<br>\n",
        "(*)¿Cual es la función objetivo?\n",
        "\n",
        "(*)¿Es un problema de maximización o minimización?"
      ]
    },
    {
      "cell_type": "markdown",
      "metadata": {
        "id": "hBalWLM7j1_d"
      },
      "source": [
        "Respuesta"
      ]
    },
    {
      "cell_type": "code",
      "metadata": {
        "id": "pDA-rg3Gj5Lz"
      },
      "source": [
        ""
      ],
      "execution_count": null,
      "outputs": []
    },
    {
      "cell_type": "markdown",
      "metadata": {
        "id": "rlnTYgY1j6I2"
      },
      "source": [
        "Diseña un algoritmo para resolver el problema por fuerza bruta"
      ]
    },
    {
      "cell_type": "markdown",
      "metadata": {
        "id": "70rDgxYXkC8r"
      },
      "source": [
        "Respuesta"
      ]
    },
    {
      "cell_type": "code",
      "metadata": {
        "id": "VfWY7ODMb3L4"
      },
      "source": [
        "signos = ['+', '-', '*', '/']\r\n",
        "numeros = list(range(1,10,1))"
      ],
      "execution_count": 1,
      "outputs": []
    },
    {
      "cell_type": "code",
      "metadata": {
        "id": "yGzQT50Jb6gG",
        "colab": {
          "base_uri": "https://localhost:8080/"
        },
        "outputId": "75fcd246-bffb-4ffa-8ee2-6679bc7c3de4"
      },
      "source": [
        "from itertools import * \r\n",
        "def CreateTodasCombinaciones(lista, limite=None):\r\n",
        "  if limite is not None:\r\n",
        "    return list(permutations(lista, limite))\r\n",
        "  return list(permutations(lista))\r\n",
        "\r\n",
        "todas_conbinaciones_signos = CreateTodasCombinaciones(signos)\r\n",
        "\r\n",
        "operaciones = []\r\n",
        "todas_respuestas_operaciones = list()\r\n",
        "for val in CreateTodasCombinaciones(numeros, 5):\r\n",
        "  for sig in todas_conbinaciones_signos:\r\n",
        "    expresion = str(val[0]) + sig[0] + str(val[1]) +sig[1]+ str(val[2]) + sig[2] + str(val[3]) + sig[3] + str(val[4])    \r\n",
        "\r\n",
        "    resultado = eval(expresion)\r\n",
        "    if resultado == int(resultado): ## filtro y dejo solo soluciones enteras\r\n",
        "      todas_respuestas_operaciones.append(resultado)\r\n",
        "\r\n",
        "      operaciones.append(expresion)\r\n",
        "\r\n",
        "print(len(operaciones))"
      ],
      "execution_count": 2,
      "outputs": [
        {
          "output_type": "stream",
          "text": [
            "90000\n"
          ],
          "name": "stdout"
        }
      ]
    },
    {
      "cell_type": "code",
      "metadata": {
        "id": "iOmENwqwb9t3",
        "colab": {
          "base_uri": "https://localhost:8080/"
        },
        "outputId": "8828931f-628a-4a87-e690-7b0209573287"
      },
      "source": [
        "todas_las_soluciones = set(todas_respuestas_operaciones)\r\n",
        "\r\n",
        "faltantes = list()\r\n",
        "for n in list(range(int(min(todas_las_soluciones)),int(max(todas_las_soluciones)),1)):\r\n",
        "  if not n in todas_las_soluciones:\r\n",
        "    faltantes.append(n)\r\n",
        "\r\n",
        "print(\"Numeros sin posible solucion en el intervalo [{},{}]: {}\".format(int(min(todas_las_soluciones)), int(max(todas_las_soluciones)), faltantes))\r\n",
        "\r\n"
      ],
      "execution_count": 3,
      "outputs": [
        {
          "output_type": "stream",
          "text": [
            "Numeros sin posible solucion en el intervalo [-69,77]: []\n"
          ],
          "name": "stdout"
        }
      ]
    },
    {
      "cell_type": "code",
      "metadata": {
        "id": "IFxn1xAN1sik"
      },
      "source": [
        "def BuscarRespuestasPara(rta):\r\n",
        "  respuestas = list()\r\n",
        "  for i, n in enumerate(todas_respuestas_operaciones):\r\n",
        "    if n == rta:\r\n",
        "      respuestas.append(operaciones[i])\r\n",
        "  return respuestas"
      ],
      "execution_count": 8,
      "outputs": []
    },
    {
      "cell_type": "code",
      "metadata": {
        "id": "eJYUtX451iV0",
        "outputId": "84a7be83-934b-4569-cf13-46d0aefa5cb7",
        "colab": {
          "base_uri": "https://localhost:8080/"
        }
      },
      "source": [
        "conteo_soluciones = list()\r\n",
        "for i in range(int(min(todas_las_soluciones)), int(max(todas_las_soluciones))+1, 1):\r\n",
        "  todas_soluciones_para_i = len(BuscarRespuestasPara(i))\r\n",
        "  #print(\"Para {} ahi {} soluciones\".format(i, todas_soluciones_para_i) )\r\n",
        "  conteo_soluciones.append( { 'i' : i, 's': todas_soluciones_para_i  } )\r\n",
        "\r\n",
        "print(conteo_soluciones)"
      ],
      "execution_count": 12,
      "outputs": [
        {
          "output_type": "stream",
          "text": [
            "[{'i': -69, 's': 16}, {'i': -68, 's': 16}, {'i': -67, 's': 40}, {'i': -66, 's': 48}, {'i': -65, 's': 88}, {'i': -64, 's': 80}, {'i': -63, 's': 112}, {'i': -62, 's': 72}, {'i': -61, 's': 64}, {'i': -60, 's': 56}, {'i': -59, 's': 56}, {'i': -58, 's': 56}, {'i': -57, 's': 48}, {'i': -56, 's': 104}, {'i': -55, 's': 96}, {'i': -54, 's': 72}, {'i': -53, 's': 104}, {'i': -52, 's': 96}, {'i': -51, 's': 96}, {'i': -50, 's': 88}, {'i': -49, 's': 184}, {'i': -48, 's': 120}, {'i': -47, 's': 160}, {'i': -46, 's': 72}, {'i': -45, 's': 176}, {'i': -44, 's': 120}, {'i': -43, 's': 152}, {'i': -42, 's': 152}, {'i': -41, 's': 168}, {'i': -40, 's': 96}, {'i': -39, 's': 168}, {'i': -38, 's': 104}, {'i': -37, 's': 208}, {'i': -36, 's': 208}, {'i': -35, 's': 304}, {'i': -34, 's': 208}, {'i': -33, 's': 128}, {'i': -32, 's': 200}, {'i': -31, 's': 296}, {'i': -30, 's': 264}, {'i': -29, 's': 288}, {'i': -28, 's': 256}, {'i': -27, 's': 288}, {'i': -26, 's': 184}, {'i': -25, 's': 376}, {'i': -24, 's': 352}, {'i': -23, 's': 376}, {'i': -22, 's': 176}, {'i': -21, 's': 336}, {'i': -20, 's': 384}, {'i': -19, 's': 416}, {'i': -18, 's': 440}, {'i': -17, 's': 488}, {'i': -16, 's': 432}, {'i': -15, 's': 552}, {'i': -14, 's': 504}, {'i': -13, 's': 552}, {'i': -12, 's': 512}, {'i': -11, 's': 648}, {'i': -10, 's': 624}, {'i': -9, 's': 768}, {'i': -8, 's': 680}, {'i': -7, 's': 960}, {'i': -6, 's': 736}, {'i': -5, 's': 1136}, {'i': -4, 's': 1096}, {'i': -3, 's': 1232}, {'i': -2, 's': 1272}, {'i': -1, 's': 1688}, {'i': 0, 's': 1888}, {'i': 1, 's': 2008}, {'i': 2, 's': 1688}, {'i': 3, 's': 1952}, {'i': 4, 's': 2112}, {'i': 5, 's': 2880}, {'i': 6, 's': 2200}, {'i': 7, 's': 2824}, {'i': 8, 's': 2376}, {'i': 9, 's': 2584}, {'i': 10, 's': 2120}, {'i': 11, 's': 2256}, {'i': 12, 's': 1512}, {'i': 13, 's': 2160}, {'i': 14, 's': 1880}, {'i': 15, 's': 1800}, {'i': 16, 's': 1568}, {'i': 17, 's': 1928}, {'i': 18, 's': 1344}, {'i': 19, 's': 1616}, {'i': 20, 's': 1344}, {'i': 21, 's': 1224}, {'i': 22, 's': 1352}, {'i': 23, 's': 1208}, {'i': 24, 's': 784}, {'i': 25, 's': 1312}, {'i': 26, 's': 1048}, {'i': 27, 's': 680}, {'i': 28, 's': 808}, {'i': 29, 's': 976}, {'i': 30, 's': 752}, {'i': 31, 's': 880}, {'i': 32, 's': 472}, {'i': 33, 's': 648}, {'i': 34, 's': 704}, {'i': 35, 's': 688}, {'i': 36, 's': 560}, {'i': 37, 's': 616}, {'i': 38, 's': 488}, {'i': 39, 's': 568}, {'i': 40, 's': 400}, {'i': 41, 's': 680}, {'i': 42, 's': 376}, {'i': 43, 's': 488}, {'i': 44, 's': 424}, {'i': 45, 's': 304}, {'i': 46, 's': 432}, {'i': 47, 's': 376}, {'i': 48, 's': 192}, {'i': 49, 's': 424}, {'i': 50, 's': 344}, {'i': 51, 's': 280}, {'i': 52, 's': 240}, {'i': 53, 's': 368}, {'i': 54, 's': 200}, {'i': 55, 's': 392}, {'i': 56, 's': 128}, {'i': 57, 's': 352}, {'i': 58, 's': 240}, {'i': 59, 's': 280}, {'i': 60, 's': 240}, {'i': 61, 's': 192}, {'i': 62, 's': 232}, {'i': 63, 's': 112}, {'i': 64, 's': 192}, {'i': 65, 's': 160}, {'i': 66, 's': 128}, {'i': 67, 's': 128}, {'i': 68, 's': 120}, {'i': 69, 's': 160}, {'i': 70, 's': 152}, {'i': 71, 's': 192}, {'i': 72, 's': 32}, {'i': 73, 's': 192}, {'i': 74, 's': 152}, {'i': 75, 's': 112}, {'i': 76, 's': 80}, {'i': 77, 's': 48}]\n"
          ],
          "name": "stdout"
        }
      ]
    },
    {
      "cell_type": "code",
      "metadata": {
        "id": "dP1BANdBcDx2"
      },
      "source": [
        ""
      ],
      "execution_count": 4,
      "outputs": []
    },
    {
      "cell_type": "code",
      "metadata": {
        "id": "_VVv4_sIcHFm",
        "colab": {
          "base_uri": "https://localhost:8080/"
        },
        "outputId": "aea67b4a-effa-4158-e369-e4aa6ba4095b"
      },
      "source": [
        "t_rta = BuscarRespuestasPara(1)\r\n",
        "print(len(t_rta))\r\n",
        "print(t_rta[:10])"
      ],
      "execution_count": 5,
      "outputs": [
        {
          "output_type": "stream",
          "text": [
            "2008\n",
            "['1+2-3*4/6', '1-2+3*4/6', '1+2-3/6*4', '1+2/3*6-4', '1-2+3/6*4', '1-2/3*6+4', '1+2-3*6/9', '1-2+3*6/9', '1*2-3+8/4', '1+2-3/9*6']\n"
          ],
          "name": "stdout"
        }
      ]
    },
    {
      "cell_type": "markdown",
      "metadata": {
        "id": "tgrnsC2nkFa8"
      },
      "source": [
        "Calcula la complejidad del algoritmo por fuerza bruta"
      ]
    },
    {
      "cell_type": "markdown",
      "metadata": {
        "id": "9eUd3xwckP68"
      },
      "source": [
        "Respuesta"
      ]
    },
    {
      "cell_type": "code",
      "metadata": {
        "id": "rvZWwL-ckRST"
      },
      "source": [
        ""
      ],
      "execution_count": null,
      "outputs": []
    },
    {
      "cell_type": "markdown",
      "metadata": {
        "id": "txbrmLmskReM"
      },
      "source": [
        "(*)Diseña un algoritmo que mejore la complejidad del algortimo por fuerza bruta. Argumenta porque crees que mejora el algoritmo por fuerza bruta"
      ]
    },
    {
      "cell_type": "markdown",
      "metadata": {
        "id": "hLrVwt5QkZPD"
      },
      "source": [
        "Respuesta"
      ]
    },
    {
      "cell_type": "code",
      "metadata": {
        "id": "m1eyM21Vkabg"
      },
      "source": [
        ""
      ],
      "execution_count": null,
      "outputs": []
    },
    {
      "cell_type": "markdown",
      "metadata": {
        "id": "eGDB4K6uk1iN"
      },
      "source": [
        "(*)Calcula la complejidad del algoritmo "
      ]
    },
    {
      "cell_type": "markdown",
      "metadata": {
        "id": "NhpTh_BPk1ms"
      },
      "source": [
        "Respuesta"
      ]
    },
    {
      "cell_type": "code",
      "metadata": {
        "id": "nREzhkStlCq8"
      },
      "source": [
        ""
      ],
      "execution_count": null,
      "outputs": []
    },
    {
      "cell_type": "markdown",
      "metadata": {
        "id": "3M6QjTsSkmYe"
      },
      "source": [
        "Según el problema (y tenga sentido), diseña un juego de datos de entrada aleatorios"
      ]
    },
    {
      "cell_type": "markdown",
      "metadata": {
        "id": "Jc3_OlyNkvjZ"
      },
      "source": [
        "Respuesta"
      ]
    },
    {
      "cell_type": "code",
      "metadata": {
        "id": "sJ-N2etjkyWc"
      },
      "source": [
        ""
      ],
      "execution_count": null,
      "outputs": []
    },
    {
      "cell_type": "markdown",
      "metadata": {
        "id": "zy5ZROmjlGo1"
      },
      "source": [
        "Aplica el algoritmo al juego de datos generado"
      ]
    },
    {
      "cell_type": "markdown",
      "metadata": {
        "id": "_Cmj-PVylMsa"
      },
      "source": [
        "Respuesta"
      ]
    },
    {
      "cell_type": "code",
      "metadata": {
        "id": "Jkx8GeiYlUz1"
      },
      "source": [
        ""
      ],
      "execution_count": null,
      "outputs": []
    },
    {
      "cell_type": "markdown",
      "metadata": {
        "id": "eTFWUJQrtGcv"
      },
      "source": [
        "Enumera las referencias que has utilizado(si ha sido necesario) para llevar a cabo el trabajo"
      ]
    },
    {
      "cell_type": "markdown",
      "metadata": {
        "id": "YKQ_mRBttWsP"
      },
      "source": [
        "Respuesta"
      ]
    },
    {
      "cell_type": "markdown",
      "metadata": {
        "id": "kAkDPUyRtYyH"
      },
      "source": [
        "Describe brevemente las lineas de como crees que es posible avanzar en el estudio del problema. Ten en cuenta incluso posibles variaciones del problema y/o variaciones al alza del tamaño"
      ]
    },
    {
      "cell_type": "markdown",
      "metadata": {
        "id": "IE0uZmo-tZu-"
      },
      "source": [
        "Respuesta"
      ]
    }
  ]
}