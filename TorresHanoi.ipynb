{
  "nbformat": 4,
  "nbformat_minor": 0,
  "metadata": {
    "colab": {
      "name": "TorresHanoi.ipynb",
      "provenance": [],
      "authorship_tag": "ABX9TyMr7AyR2YzYnzT/C1zt31sX",
      "include_colab_link": true
    },
    "kernelspec": {
      "name": "python3",
      "display_name": "Python 3"
    }
  },
  "cells": [
    {
      "cell_type": "markdown",
      "metadata": {
        "id": "view-in-github",
        "colab_type": "text"
      },
      "source": [
        "<a href=\"https://colab.research.google.com/github/wisrovi/03MAIR-Algoritmos-de-Optimizacion/blob/main/TorresHanoi.ipynb\" target=\"_parent\"><img src=\"https://colab.research.google.com/assets/colab-badge.svg\" alt=\"Open In Colab\"/></a>"
      ]
    },
    {
      "cell_type": "markdown",
      "metadata": {
        "id": "iVNMT59Is8k7"
      },
      "source": [
        "# Solucion Torres de Hanoi con recursividad"
      ]
    },
    {
      "cell_type": "code",
      "metadata": {
        "id": "HvO4yUjns7TY"
      },
      "source": [
        "def torres_hanoi(N, desde=1, hasta=3):\r\n",
        "  if N==1:\r\n",
        "    print(\"Llevar desde \" + str(desde) + \" hasta \" + str(hasta))\r\n",
        "  else:\r\n",
        "    torres_hanoi(N-1, desde, 6 - desde - hasta)\r\n",
        "    print(\"Llevar desde \" + str(desde) + \" hasta \" + str(hasta))\r\n",
        "    torres_hanoi(N-1, 6 - desde - hasta, hasta)"
      ],
      "execution_count": null,
      "outputs": []
    },
    {
      "cell_type": "code",
      "metadata": {
        "colab": {
          "base_uri": "https://localhost:8080/"
        },
        "id": "X-jNksn6s1E6",
        "outputId": "27e6ccf0-742c-49a8-84fe-368e7269743d"
      },
      "source": [
        "torres_hanoi(3)"
      ],
      "execution_count": 2,
      "outputs": [
        {
          "output_type": "stream",
          "text": [
            "Llevar desde 1 hasta 3\n",
            "Llevar desde 1 hasta 2\n",
            "Llevar desde 3 hasta 2\n",
            "Llevar desde 1 hasta 3\n",
            "Llevar desde 2 hasta 1\n",
            "Llevar desde 2 hasta 3\n",
            "Llevar desde 1 hasta 3\n"
          ],
          "name": "stdout"
        }
      ]
    }
  ]
}