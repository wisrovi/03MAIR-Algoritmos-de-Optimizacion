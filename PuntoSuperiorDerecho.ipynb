{
  "nbformat": 4,
  "nbformat_minor": 0,
  "metadata": {
    "colab": {
      "name": "PuntoSuperiorDerecho.ipynb",
      "provenance": [],
      "authorship_tag": "ABX9TyMQeBICCXl1pN88LQs4AKO9",
      "include_colab_link": true
    },
    "kernelspec": {
      "name": "python3",
      "display_name": "Python 3"
    }
  },
  "cells": [
    {
      "cell_type": "markdown",
      "metadata": {
        "id": "view-in-github",
        "colab_type": "text"
      },
      "source": [
        "<a href=\"https://colab.research.google.com/github/wisrovi/03MAIR-Algoritmos-de-Optimizacion/blob/main/PuntoSuperiorDerecho.ipynb\" target=\"_parent\"><img src=\"https://colab.research.google.com/assets/colab-badge.svg\" alt=\"Open In Colab\"/></a>"
      ]
    },
    {
      "cell_type": "markdown",
      "metadata": {
        "id": "xODjTfDZWHMy"
      },
      "source": [
        "# Nombre: William Steve Rodriguez Villamizar\r\n",
        "\r\n",
        "# github: https://github.com/wisrovi/03MAIR-Algoritmos-de-Optimizacion/blob/main/PuntoSuperiorDerecho.ipynb\r\n",
        "\r\n",
        "# colab: https://colab.research.google.com/github/wisrovi/03MAIR-Algoritmos-de-Optimizacion/blob/main/PuntoSuperiorDerecho.ipynb"
      ]
    },
    {
      "cell_type": "markdown",
      "metadata": {
        "id": "E3yfSIV2TnuL"
      },
      "source": [
        "# Librerias"
      ]
    },
    {
      "cell_type": "code",
      "metadata": {
        "id": "bPZG8cYUQIm4"
      },
      "source": [
        "import random\r\n",
        "import math\r\n",
        "import matplotlib.pyplot as plt"
      ],
      "execution_count": null,
      "outputs": []
    },
    {
      "cell_type": "code",
      "metadata": {
        "id": "TuY-c9YPUgHc"
      },
      "source": [
        "def Pintar(P, V, A = None):\r\n",
        "  plt.scatter(*zip(*P))\r\n",
        "  if A != None:\r\n",
        "    plt.scatter(*zip(*A), c='green')\r\n",
        "  plt.scatter(*zip(*V), c='red')\r\n",
        "  plt.show()"
      ],
      "execution_count": null,
      "outputs": []
    },
    {
      "cell_type": "markdown",
      "metadata": {
        "id": "bsSVMAqST8Ck"
      },
      "source": [
        "# Ejemplo lista puntos a evaluar"
      ]
    },
    {
      "cell_type": "code",
      "metadata": {
        "id": "VACn_KuGUKhU"
      },
      "source": [
        "def puntoSectorInv(r,a):\r\n",
        "  ang = math.pi * a / 180\r\n",
        "  return (N*10 - int(r*math.sin(ang)), N*10 - int(r*math.cos(ang)))"
      ],
      "execution_count": null,
      "outputs": []
    },
    {
      "cell_type": "code",
      "metadata": {
        "id": "qUxjQZpQT-SH"
      },
      "source": [
        "N = 25 # cantidad de puntos a generar"
      ],
      "execution_count": null,
      "outputs": []
    },
    {
      "cell_type": "code",
      "metadata": {
        "colab": {
          "base_uri": "https://localhost:8080/"
        },
        "id": "ZKjkiXpvT8me",
        "outputId": "f6e9e4b6-f49f-4ff0-d771-090d67700c1f"
      },
      "source": [
        "puntos = [ puntoSectorInv(random.randrange(1, N), random.randrange(0, 90)) for _ in range(N) ]\r\n",
        "print(len(puntos),puntos[:10])"
      ],
      "execution_count": null,
      "outputs": [
        {
          "output_type": "stream",
          "text": [
            "25 [(234, 249), (243, 239), (250, 241), (243, 240), (235, 245), (235, 248), (243, 231), (237, 240), (250, 249), (249, 249)]\n"
          ],
          "name": "stdout"
        }
      ]
    },
    {
      "cell_type": "markdown",
      "metadata": {
        "id": "3ElLg9xVTfL2"
      },
      "source": [
        "# Fuerza bruta"
      ]
    },
    {
      "cell_type": "code",
      "metadata": {
        "id": "2bOJfcPjTg3M"
      },
      "source": [
        "# comprobamos que se cumple la condicion (A es esquina si está más a la derecha o más arriba que B): A_x > B_x ó que  A_y > B_y\r\n",
        "def comprobar(A, B):\r\n",
        "  return A[0] > B[0] or A[1] > B[1] or (A[0] == B[0] and A[1] == B[1])\r\n",
        "\r\n",
        "def FuerzaBruta(L):\r\n",
        "  longitud = len(L)\r\n",
        "  resultado = []\r\n",
        "\r\n",
        "  print('  Resolviendo por fuerza bruta: {0} puntos'.format(len(L)))\r\n",
        "  for i in range(longitud):\r\n",
        "    puedeSerEsquina = True\r\n",
        "    for j in range(longitud):\r\n",
        "      if i == j: continue\r\n",
        "      if not comprobar(L[i], L[j]):\r\n",
        "        puedeSerEsquina = False\r\n",
        "        break\r\n",
        "\r\n",
        "    if puedeSerEsquina:\r\n",
        "      resultado.append(L[i])\r\n",
        "\r\n",
        "  return resultado"
      ],
      "execution_count": null,
      "outputs": []
    },
    {
      "cell_type": "markdown",
      "metadata": {
        "id": "xotrSuwLUOkP"
      },
      "source": [
        "## Ejemplo fuerza bruta"
      ]
    },
    {
      "cell_type": "code",
      "metadata": {
        "colab": {
          "base_uri": "https://localhost:8080/"
        },
        "id": "YLeQaURiUQqe",
        "outputId": "ed8bf2ae-678d-44a3-bd99-ee588768a301"
      },
      "source": [
        "vertices_bruto = FuerzaBruta(puntos)\r\n",
        "#print (vertices_bruto)\r\n",
        "Pintar(puntos, vertices_bruto)"
      ],
      "execution_count": null,
      "outputs": [
        {
          "output_type": "stream",
          "text": [
            "  Resolviendo por fuerza bruta: 25 puntos\n"
          ],
          "name": "stdout"
        },
        {
          "output_type": "display_data",
          "data": {
            "image/png": "[encoded data removed]",
            "text/plain": [
              "<Figure size 432x288 with 1 Axes>"
            ]
          },
          "metadata": {
            "tags": [],
            "needs_background": "light"
          }
        }
      ]
    },
    {
      "cell_type": "markdown",
      "metadata": {
        "id": "5muppt-gUn9l"
      },
      "source": [
        "# Divide y venceras"
      ]
    },
    {
      "cell_type": "code",
      "metadata": {
        "id": "vf4aqDr-QJDf"
      },
      "source": [
        "# criterio de separación para elementos con más de una dimensión\r\n",
        "# por cada dimensión, len(A), comprobamos si el valor es menor que el corte, componiendo todos mediante aritmetica booleana\r\n",
        "def Porcion(A, B):\r\n",
        "  return sum([ int(A[i] < B[i]) << i for i in range(len(A))])\r\n",
        "\r\n",
        "\r\n",
        "# para calcular un punto intermedio de una lista dada: se utiliza promedia sobre un número dado de elementos\r\n",
        "# los valores se cogen de forma aleatoria para mitigar problemas en listas ordenadas (por ejemplo)\r\n",
        "def calcularPivote(L, N):\r\n",
        "  largoLista = len(L)\r\n",
        "  if largoLista == 0: return 0\r\n",
        "  \r\n",
        "  d = len(L[0])\r\n",
        "  sumaParcial = (0,) * d\r\n",
        "\r\n",
        "  for i in range(N):\r\n",
        "      puntoAPromediar = L[random.randrange(0, largoLista)]\r\n",
        "      sumaParcial = tuple(sumaParcial[i] + puntoAPromediar[i] for i in range(d))\r\n",
        "  return tuple(i / N for i in sumaParcial)\r\n",
        "\r\n",
        "\r\n",
        "def Divide(L):\r\n",
        "  #Si hay pocos por Fuerza Bruta (se podría probar con distintos valores para decidir qué es \"poco\")\r\n",
        "  if len(L) < 10: \r\n",
        "    return FuerzaBruta(L)\r\n",
        "  \r\n",
        "  # Dividir para listas grandes\r\n",
        "  pivote = calcularPivote(L, 10)\r\n",
        "  print('Corte {0}, sobre {1} puntos'.format(pivote, len(L)))\r\n",
        "  subListas = [[] for _ in range(2 << len(L[0]))]\r\n",
        "  for punto in L:\r\n",
        "    subListas[Porcion(punto, pivote)].append(punto)\r\n",
        "\r\n",
        "\r\n",
        "  for s in subListas:\r\n",
        "    # solo por cubrirnos: comprobación de que no hayamos entrado en una condicion de bucle infinito (conjunto que no se puede trocear según nuestro criterio)\r\n",
        "    # llegado el caso resolvemos por fuerza bruta --> estamos penalizando situaciones poco habituales, como que todos los puntos sean el mismo\r\n",
        "    if len(s) == len(L): return FuerzaBruta(s)\r\n",
        "\r\n",
        "  # sin tenemos cuadrante superior derecho\r\n",
        "  # nos podemos olvidar del cuadrante inferior izquierdo (todo cubierto)\r\n",
        "  # y los cuadrantes adyacentes se podrán considerar despues de reducirlos\r\n",
        "  if len(subListas[0]) > 0:\r\n",
        "    # buscamos esquinas en la parte superior derecha (este cuadrante cubre al resto)\r\n",
        "    aristaExt = Divide(subListas[0])\r\n",
        "    # y miramos cual es la cota superior (mayor ordenada) derecha (mayor abcisa) del resultado\r\n",
        "    # lo que quede más arriba o más a la derecha no está cubierto\r\n",
        "    mayorX, mayorY = -1, -1\r\n",
        "    for i in aristaExt:\r\n",
        "      if i[0] > mayorX: mayorX = i[0]\r\n",
        "      if i[1] > mayorY: mayorY = i[1]\r\n",
        "\r\n",
        "    # lista izquierda: filtramos puntos que estén por encima del mayor Y que tenemos, y calculamos sobre lo que quede\r\n",
        "    aristaIzq = Divide([i for i in subListas[1] if i[1] > mayorY]) \r\n",
        "    # lista inferior: filtramos puntos que estén a la derecha del mayor X que tenemos, y calculamos sobre lo que quede\r\n",
        "    aristaInf = Divide([i for i in subListas[2] if i[0] > mayorX])\r\n",
        "    \r\n",
        "    return aristaExt + aristaIzq + aristaInf\r\n",
        "  \r\n",
        "  # si no tenemos cuadrante superior derecho: no hace falta que le calculemos nada\r\n",
        "  else:\r\n",
        "    # comprobamos los cuadrante más externos que quedan: arriba-izquierda y abajo-derecha\r\n",
        "    aristaIzq = Divide(subListas[1])\r\n",
        "    aristaInf = Divide(subListas[2])\r\n",
        "    # y miramos cual es la cota superior (mayor ordenada) y derecha (mayor abcisa) de los resultados\r\n",
        "    # lo que quede más arriba Y más a la derecha no está cubierto en el cuadrante que queda\r\n",
        "    mayorX, mayorY = -1, -1\r\n",
        "    for i in aristaIzq:\r\n",
        "      if i[0] > mayorX: mayorX = i[0]\r\n",
        "    for i in aristaInf:\r\n",
        "      if i[1] > mayorY: mayorY = i[1]\r\n",
        "        \r\n",
        "    # lista inferior izquierda: solo en este caso pueden ser candidatos\r\n",
        "    # los puntos que queden arriba del punto más alto encontrado a su derecha (mayorY, de aristaInf)\r\n",
        "    # Y a la derecha del punto más a la derecha encontrado encima (mayorX, de aristaIzq)\r\n",
        "    aristaInt = Divide([i for i in subListas[3] if i[0] > mayorX and i[1] > mayorY])\r\n",
        "    \r\n",
        "    return aristaInt + aristaIzq + aristaInf"
      ],
      "execution_count": null,
      "outputs": []
    },
    {
      "cell_type": "code",
      "metadata": {
        "id": "BSwFbGjPQSmo"
      },
      "source": [
        "def puntoSector(r,a):\r\n",
        "  ang = math.pi * a / 180\r\n",
        "  return (int(r*math.sin(ang)), int(r*math.cos(ang)))\r\n"
      ],
      "execution_count": null,
      "outputs": []
    },
    {
      "cell_type": "markdown",
      "metadata": {
        "id": "kCKs0czRXuns"
      },
      "source": [
        "## Ejemplo usando divide y venceras"
      ]
    },
    {
      "cell_type": "code",
      "metadata": {
        "colab": {
          "base_uri": "https://localhost:8080/"
        },
        "id": "xTvld-hgQmVg",
        "outputId": "b28cd794-1f24-4385-96a1-1c01d3165795"
      },
      "source": [
        "vertices_divide = Divide(puntos)\r\n",
        "\r\n",
        "# print(puntos)\r\n",
        "print (vertices_divide)\r\n",
        "\r\n",
        "Pintar(puntos, vertices_divide)"
      ],
      "execution_count": null,
      "outputs": [
        {
          "output_type": "stream",
          "text": [
            "Corte (244.1, 240.8), sobre 25 puntos\n",
            "  Resolviendo por fuerza bruta: 8 puntos\n",
            "  Resolviendo por fuerza bruta: 0 puntos\n",
            "  Resolviendo por fuerza bruta: 0 puntos\n",
            "[(250, 249), (250, 249), (245, 250)]\n"
          ],
          "name": "stdout"
        },
        {
          "output_type": "display_data",
          "data": {
            "image/png": "[encoded data removed]",
            "text/plain": [
              "<Figure size 432x288 with 1 Axes>"
            ]
          },
          "metadata": {
            "tags": [],
            "needs_background": "light"
          }
        }
      ]
    },
    {
      "cell_type": "markdown",
      "metadata": {
        "id": "XJ8NgjvMZlX9"
      },
      "source": [
        "# Agradecimientos"
      ]
    },
    {
      "cell_type": "markdown",
      "metadata": {
        "id": "ibUDoClyZTyX"
      },
      "source": [
        "### - Dios por darme los talentos y apoyo eterno\r\n",
        "### - Juan Orea, por sus videos de youtube\r\n",
        "### - Mi amada esposa por su apoyo incondicional"
      ]
    }
  ]
}