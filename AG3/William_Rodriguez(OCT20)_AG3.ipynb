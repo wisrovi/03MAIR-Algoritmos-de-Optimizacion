{
  "nbformat": 4,
  "nbformat_minor": 0,
  "metadata": {
    "colab": {
      "name": "Raul Reyero - Algoritmos(OCT20)  - AG3.ipynb",
      "provenance": [],
      "collapsed_sections": [],
      "include_colab_link": true
    },
    "kernelspec": {
      "name": "python3",
      "display_name": "Python 3"
    }
  },
  "cells": [
    {
      "cell_type": "markdown",
      "metadata": {
        "id": "view-in-github",
        "colab_type": "text"
      },
      "source": [
        "<a href=\"https://colab.research.google.com/github/wisrovi/03MAIR-Algoritmos-de-Optimizacion/blob/main/AG3/William_Rodriguez(OCT20)_AG3.ipynb\" target=\"_parent\"><img src=\"https://colab.research.google.com/assets/colab-badge.svg\" alt=\"Open In Colab\"/></a>"
      ]
    },
    {
      "cell_type": "markdown",
      "metadata": {
        "id": "Ofrcocl8c9RM"
      },
      "source": [
        "AG3- Actividad Guiada 3<br>\n",
        "Nombre: xxxxxx xxxxxxx<br>\n",
        "https://github.com/raul27868/03MAIR---Algoritmos-de-Optimizacion/tree/master/AG3\n",
        "https://colab.research.google.com/drive/xxxxxxxxxxxxxxxx?usp=sharing\n"
      ]
    },
    {
      "cell_type": "code",
      "metadata": {
        "id": "qP-Y3Gkfc4vn",
        "outputId": "de483cc9-256c-4789-ee04-ae0934b5c022",
        "colab": {
          "base_uri": "https://localhost:8080/"
        }
      },
      "source": [
        "!pip install requests    #Hacer llamadas http a paginas de la red\n",
        "!pip install tsplib95    #Modulo para las instancias del problema del TSP"
      ],
      "execution_count": 1,
      "outputs": [
        {
          "output_type": "stream",
          "text": [
            "Requirement already satisfied: requests in /usr/local/lib/python3.6/dist-packages (2.23.0)\n",
            "Requirement already satisfied: chardet<4,>=3.0.2 in /usr/local/lib/python3.6/dist-packages (from requests) (3.0.4)\n",
            "Requirement already satisfied: idna<3,>=2.5 in /usr/local/lib/python3.6/dist-packages (from requests) (2.10)\n",
            "Requirement already satisfied: certifi>=2017.4.17 in /usr/local/lib/python3.6/dist-packages (from requests) (2020.12.5)\n",
            "Requirement already satisfied: urllib3!=1.25.0,!=1.25.1,<1.26,>=1.21.1 in /usr/local/lib/python3.6/dist-packages (from requests) (1.24.3)\n",
            "Requirement already satisfied: tsplib95 in /usr/local/lib/python3.6/dist-packages (0.7.1)\n",
            "Requirement already satisfied: Click>=6.0 in /usr/local/lib/python3.6/dist-packages (from tsplib95) (7.1.2)\n",
            "Requirement already satisfied: networkx~=2.1 in /usr/local/lib/python3.6/dist-packages (from tsplib95) (2.5)\n",
            "Requirement already satisfied: Deprecated~=1.2.9 in /usr/local/lib/python3.6/dist-packages (from tsplib95) (1.2.10)\n",
            "Requirement already satisfied: tabulate~=0.8.7 in /usr/local/lib/python3.6/dist-packages (from tsplib95) (0.8.7)\n",
            "Requirement already satisfied: decorator>=4.3.0 in /usr/local/lib/python3.6/dist-packages (from networkx~=2.1->tsplib95) (4.4.2)\n",
            "Requirement already satisfied: wrapt<2,>=1.10 in /usr/local/lib/python3.6/dist-packages (from Deprecated~=1.2.9->tsplib95) (1.12.1)\n"
          ],
          "name": "stdout"
        }
      ]
    },
    {
      "cell_type": "code",
      "metadata": {
        "id": "-SWA0WtIfFOS"
      },
      "source": [
        "import tsplib95       #Modulo para las instancias del problema del TSP\n",
        "import random         #Modulo para generar números aleatorios\n",
        "from math import e    #constante e\n",
        "import copy           #Para copia profunda de estructuras de datos(en python la asignación es por referencia)\n"
      ],
      "execution_count": 2,
      "outputs": []
    },
    {
      "cell_type": "code",
      "metadata": {
        "id": "mnA47nhtdKOc",
        "colab": {
          "base_uri": "https://localhost:8080/"
        },
        "outputId": "01a04e07-80c0-4f80-8ff3-f87564a576f3"
      },
      "source": [
        "import urllib.request #Hacer llamadas http a paginas de la red\n",
        "\n",
        "#http://elib.zib.de/pub/mp-testdata/tsp/tsplib/\n",
        "#Documentacion : \n",
        "  # http://comopt.ifi.uni-heidelberg.de/software/TSPLIB95/tsp95.pdf\n",
        "  # https://tsplib95.readthedocs.io/en/stable/pages/usage.html\n",
        "  # https://tsplib95.readthedocs.io/en/v0.6.1/modules.html\n",
        "  # https://pypi.org/project/tsplib95/\n",
        "\n",
        "#Descargamos el fichero de datos(Matriz de distancias)\n",
        "file = \"swiss42.tsp\" ; \n",
        "urllib.request.urlretrieve(\"http://elib.zib.de/pub/mp-testdata/tsp/tsplib/tsp/swiss42.tsp\", file) \n",
        "\n",
        "#Coordendas 51-city problem (Christofides/Eilon)\n",
        "#file = \"eil51.tsp\" ; urllib.request.urlretrieve(\"http://elib.zib.de/pub/mp-testdata/tsp/tsplib/tsp/eil51.tsp\", file)\n",
        "\n",
        "#Coordenadas - 48 capitals of the US (Padberg/Rinaldi)\n",
        "#file = \"att48.tsp\" ; urllib.request.urlretrieve(\"http://elib.zib.de/pub/mp-testdata/tsp/tsplib/tsp/att48.tsp\", file)\n",
        "\n",
        "\n"
      ],
      "execution_count": 3,
      "outputs": [
        {
          "output_type": "execute_result",
          "data": {
            "text/plain": [
              "('swiss42.tsp', <http.client.HTTPMessage at 0x7f88d0e68320>)"
            ]
          },
          "metadata": {
            "tags": []
          },
          "execution_count": 3
        }
      ]
    },
    {
      "cell_type": "code",
      "metadata": {
        "id": "ARkZkqP1m3tf"
      },
      "source": [
        "#Modulos extras, no esenciales\n",
        "#import numpy as np\n",
        "#import matplotlib.pyplot as plt\n",
        "#import imageio                    #Para construir las imagenes con gif\n",
        "#from google.colab import files    #Para descargar ficheros generados con google colab\n",
        "\n",
        "#from tempfile import mkstemp      #Para genera carpetas y ficheros temporales\n",
        "#import tempfile\n"
      ],
      "execution_count": 4,
      "outputs": []
    },
    {
      "cell_type": "code",
      "metadata": {
        "id": "RIXYkDWcfmwd"
      },
      "source": [
        "#Carga de datos y generación de objeto problem\n",
        "\n",
        "problem = tsplib95.load(file)\n",
        "\n",
        "#Nodos\n",
        "Nodos = list(problem.get_nodes())\n",
        "\n",
        "#Aristas\n",
        "Aristas = list(problem.get_edges())\n",
        "\n"
      ],
      "execution_count": 5,
      "outputs": []
    },
    {
      "cell_type": "code",
      "metadata": {
        "id": "a7bTofSnn_Jt",
        "outputId": "df66476b-f11d-401f-f958-d55eb587b12a",
        "colab": {
          "base_uri": "https://localhost:8080/"
        }
      },
      "source": [
        "#Probamos algunas funciones del objeto problem\n",
        "\n",
        "#Distancia entre nodos\n",
        "problem.get_weight(0, 1)\n",
        "\n",
        "#Todas las funciones\n",
        "#Documentación: https://tsplib95.readthedocs.io/en/v0.6.1/modules.html\n",
        "#dir(problem)"
      ],
      "execution_count": 6,
      "outputs": [
        {
          "output_type": "execute_result",
          "data": {
            "text/plain": [
              "15"
            ]
          },
          "metadata": {
            "tags": []
          },
          "execution_count": 6
        }
      ]
    },
    {
      "cell_type": "code",
      "metadata": {
        "id": "tzrkaBS3gmmz"
      },
      "source": [
        " \n",
        "#Funcionas basicas      \n",
        "     \n",
        "#Se genera una solucion aleatoria con comienzo en en el nodo 0\n",
        "def crear_solucion(Nodos): \n",
        "  solucion = [Nodos[0]]\n",
        "  for n in Nodos[1:]:\n",
        "    solucion = solucion + [random.choice(list(set(Nodos) - set({Nodos[0]}) - set(solucion)))]\n",
        "  return solucion \n",
        "\n",
        "#Devuelve la distancia entre dos nodos\n",
        "def distancia(a,b, problem):\n",
        "  return problem.get_weight(a,b)\n",
        "\n",
        "#Devuelve la distancia total de una trayectoria/solucion\n",
        "def distancia_total(solucion, problem):\n",
        "  distancia_total = 0\n",
        "  for i in range(len(solucion)-1):\n",
        "    distancia_total += distancia(solucion[i] ,solucion[i+1] ,  problem)\n",
        "  return distancia_total + distancia(solucion[len(solucion)-1] ,solucion[0], problem)\n",
        "\n",
        "\n",
        " "
      ],
      "execution_count": 7,
      "outputs": []
    },
    {
      "cell_type": "code",
      "metadata": {
        "id": "nXhAb4oNk418",
        "colab": {
          "base_uri": "https://localhost:8080/"
        },
        "outputId": "5e3fc1ee-87e4-4d01-fa31-457116288cf3"
      },
      "source": [
        "def busqueda_aleatoria(problem, N):\n",
        "  \n",
        "  Nodos = list(problem.get_nodes())\n",
        "  \n",
        "  mejor_solucion = []\n",
        "  mejor_distancia = 10e100                          #Inicializamos con un valor alto\n",
        "  \n",
        "  for i in range(N):                                #Criterio de parada: repetir N veces pero podemos incluir otros\n",
        "    solucion = crear_solucion(Nodos)                #Genera una solucion aleatoria\n",
        "    distancia = distancia_total(solucion, problem)  #Calcula el valor objetivo(distancia total)\n",
        "    \n",
        "    if distancia < mejor_distancia:                 #Compara con la mejor obtenida hasta ahora\n",
        "      mejor_solucion = solucion\n",
        "      mejor_distancia = distancia\n",
        "      \n",
        "      \n",
        "  print(\"Mejor solución:\" , mejor_solucion) \n",
        "  print(\"Distancia     :\" , mejor_distancia) \n",
        "  return mejor_solucion  \n",
        "\n",
        "    \n",
        "    \n",
        "solucion = busqueda_aleatoria(problem, 5000)    \n",
        " "
      ],
      "execution_count": 8,
      "outputs": [
        {
          "output_type": "stream",
          "text": [
            "Mejor solución: [0, 41, 6, 7, 18, 31, 1, 16, 12, 10, 39, 21, 29, 4, 32, 33, 24, 25, 23, 22, 38, 27, 34, 35, 36, 5, 14, 37, 17, 9, 8, 19, 15, 26, 3, 13, 20, 2, 40, 11, 30, 28]\n",
            "Distancia     : 3724\n"
          ],
          "name": "stdout"
        }
      ]
    },
    {
      "cell_type": "code",
      "metadata": {
        "id": "BT2gWJsFm5hM",
        "colab": {
          "base_uri": "https://localhost:8080/"
        },
        "outputId": "ee4b1ad8-abac-41b4-9d01-6fcfc6f8ebd4"
      },
      "source": [
        "def genera_vecina(solucion):\n",
        "  #Generador de soluciones vecinas: 2-opt (intercambiar 2 nodos) Si hay N nodos se generan (N-1)x(N-2)/2 soluciones\n",
        "  #print(solucion)\n",
        "  mejor_solucion = []\n",
        "  mejor_distancia = 10e100\n",
        "  for i in range(1,len(solucion)-1):          #Recorremos todos los nodos en bucle doble para evaluar todos los intercambios 2-opt\n",
        "    for j in range(i+1, len(solucion)):\n",
        "      \n",
        "      #Se genera una nueva solución intercambiando los dos nodos i,j:\n",
        "      #  (usamos el operador + que para listas en python las concatena) : ej.: [1,2] + [3] = [1,2,3]\n",
        "      vecina = solucion[:i] + [solucion[j]] + solucion[i+1:j] + [solucion[i]] + solucion[j+1:]  \n",
        "\n",
        "      #Se evalua la nueva solución ...\n",
        "      distancia_vecina = distancia_total(vecina, problem)         \n",
        "\n",
        "      #... para guardarla si mejora las anteriores\n",
        "      if distancia_vecina <= mejor_distancia:\n",
        "        mejor_distancia = distancia_vecina\n",
        "        mejor_solucion = vecina\n",
        "  return mejor_solucion\n",
        "\n",
        "\n",
        "#solucion = [1, 47, 13, 41, 40, 19, 42, 44, 37, 5, 22, 28, 3, 2, 29, 21, 50, 34, 30, 9, 16, 11, 38, 49, 10, 39, 33, 45, 15, 24, 43, 26, 31, 36, 35, 20, 8, 7, 23, 48, 27, 12, 17, 4, 18, 25, 14, 6, 51, 46, 32]\n",
        "print(\"Distancia Solucion Incial:\" , distancia_total(solucion, problem))\n",
        " \n",
        "\n",
        "nueva_solucion = genera_vecina(solucion)\n",
        "print(\"Distancia Solucion Local:\", distancia_total(nueva_solucion, problem))\n",
        "\n",
        " "
      ],
      "execution_count": 9,
      "outputs": [
        {
          "output_type": "stream",
          "text": [
            "Distancia Solucion Incial: 3724\n",
            "Distancia Solucion Local: 3444\n"
          ],
          "name": "stdout"
        }
      ]
    },
    {
      "cell_type": "code",
      "metadata": {
        "id": "z4A4F8Pps0O7"
      },
      "source": [
        " "
      ],
      "execution_count": 9,
      "outputs": []
    },
    {
      "cell_type": "code",
      "metadata": {
        "id": "UdBJg9Q9pYoE",
        "colab": {
          "base_uri": "https://localhost:8080/"
        },
        "outputId": "2f96f6dd-b432-4165-e717-09f4679ee167"
      },
      "source": [
        "#Busqueda Local:\n",
        "#  - Sobre el operador de vecindad 2-opt(funcion genera_vecina)\n",
        "#  - Sin criterio de parada, se para cuando no es posible mejorar.\n",
        "def busqueda_local(problem):\n",
        "  mejor_solucion = []\n",
        "  \n",
        "  #Generar una solucion inicial de referencia(aleatoria)\n",
        "  solucion_referencia = crear_solucion(Nodos)\n",
        "  mejor_distancia = distancia_total(solucion_referencia, problem)\n",
        "\n",
        "  iteracion=0   #Un contador para saber las iteraciones que hacemos\n",
        "  while(1):\n",
        "    iteracion +=1     #Incrementamos el contador\n",
        "    #print('#',iteracion)\n",
        "\n",
        "    #Obtenemos la mejor vecina ...\n",
        "    vecina = genera_vecina(solucion_referencia)\n",
        "    #... y la evaluamos para ver si mejoramos respecto a lo encontrado hasta el momento\n",
        "    distancia_vecina = distancia_total(vecina, problem)\n",
        " \n",
        "    #Si no mejoramos hay que terminas. Hemos llegado a un minimo local(según nuestro operador de vencindad)\n",
        "    if distancia_vecina < mejor_distancia:\n",
        "      mejor_solucion = copy.deepcopy(vecina)   #Con copia profunda. Las copias en python son por referencia \n",
        "      mejor_distancia = distancia_vecina\n",
        "    else:\n",
        "      print(\"En la iteracion \", iteracion, \", la mejor solución encontrada es:\" , mejor_solucion) \n",
        "      print(\"Distancia     :\" , mejor_distancia) \n",
        "      return mejor_solucion\n",
        "      \n",
        "    solucion_referencia = vecina\n",
        " \n",
        " \n",
        "sol = busqueda_local(problem )  \n"
      ],
      "execution_count": 10,
      "outputs": [
        {
          "output_type": "stream",
          "text": [
            "En la iteracion  34 , la mejor solución encontrada es: [0, 31, 17, 15, 16, 14, 26, 10, 23, 41, 25, 11, 12, 18, 4, 2, 27, 3, 1, 7, 32, 30, 29, 9, 8, 28, 6, 5, 13, 19, 37, 36, 35, 20, 33, 34, 38, 22, 24, 40, 21, 39]\n",
            "Distancia     : 1778\n"
          ],
          "name": "stdout"
        }
      ]
    },
    {
      "cell_type": "code",
      "metadata": {
        "id": "EMwkY1r2pYLw",
        "outputId": "aa80291a-695b-4a73-d749-8bb9e03dcf9e",
        "colab": {
          "base_uri": "https://localhost:8080/"
        }
      },
      "source": [
        "#Generador de 1 solucion vecina 2-opt aleatoria (intercambiar 2 nodos)\n",
        "def genera_vecina_aleatorio(solucion):\n",
        "\n",
        "  #Se eligen dos nodos aleatoriamente\n",
        "  i,j = sorted(random.sample( range(1,len(solucion)) , 2))\n",
        "  \n",
        "  #Devuelve una nueva solución pero intercambiando los dos nodos elegidos al azar\n",
        "  return solucion[:i] + [solucion[j]] + solucion[i+1:j] + [solucion[i]] + solucion[j+1:]\n",
        "  \n",
        " \n",
        "genera_vecina_aleatorio(solucion) \n"
      ],
      "execution_count": 11,
      "outputs": [
        {
          "output_type": "execute_result",
          "data": {
            "text/plain": [
              "[0,\n",
              " 41,\n",
              " 6,\n",
              " 7,\n",
              " 18,\n",
              " 31,\n",
              " 1,\n",
              " 16,\n",
              " 12,\n",
              " 10,\n",
              " 20,\n",
              " 21,\n",
              " 29,\n",
              " 4,\n",
              " 32,\n",
              " 33,\n",
              " 24,\n",
              " 25,\n",
              " 23,\n",
              " 22,\n",
              " 38,\n",
              " 27,\n",
              " 34,\n",
              " 35,\n",
              " 36,\n",
              " 5,\n",
              " 14,\n",
              " 37,\n",
              " 17,\n",
              " 9,\n",
              " 8,\n",
              " 19,\n",
              " 15,\n",
              " 26,\n",
              " 3,\n",
              " 13,\n",
              " 39,\n",
              " 2,\n",
              " 40,\n",
              " 11,\n",
              " 30,\n",
              " 28]"
            ]
          },
          "metadata": {
            "tags": []
          },
          "execution_count": 11
        }
      ]
    },
    {
      "cell_type": "code",
      "metadata": {
        "id": "GsN1UIDp0j6I"
      },
      "source": [
        "\n",
        "#Funcion de probabilidad para aceptar peores soluciones\n",
        "def probabilidad(T,d):\n",
        "  if random.random() <  math.exp( -1*d / T)  :\n",
        "    return True\n",
        "  else:\n",
        "    return False\n",
        "\n",
        "#Funcion de descenso de temperatura\n",
        "def bajar_temperatura(T):\n",
        "  return T*0.99\n",
        " \n",
        "def probabilidad(T,d):\n",
        "  if random.random() <  math.exp( -1*d / T)  :\n",
        "    return True\n",
        "  else:\n",
        "    return False\n"
      ],
      "execution_count": 12,
      "outputs": []
    },
    {
      "cell_type": "code",
      "metadata": {
        "id": "l2T0EvuMsOYz"
      },
      "source": [
        ""
      ],
      "execution_count": 12,
      "outputs": []
    },
    {
      "cell_type": "code",
      "metadata": {
        "id": "4waPiCcVtuhF",
        "colab": {
          "base_uri": "https://localhost:8080/"
        },
        "outputId": "52c1888d-12cf-4125-c9c2-648a554b49ee"
      },
      "source": [
        "import math\n",
        "def recocido_simulado(problem, TEMPERATURA ):\n",
        "  #problem = datos del problema\n",
        "  #T = Temperatura\n",
        "  \n",
        "  solucion_referencia = crear_solucion(Nodos)\n",
        "  distancia_referencia = distancia_total(solucion_referencia, problem)\n",
        "  \n",
        "  mejor_solucion = []\n",
        "  mejor_distancia = 10e100\n",
        "  \n",
        "  \n",
        "  N=0\n",
        "  while TEMPERATURA > .0001:\n",
        "    N+=1\n",
        "    #Genera una solución vecina\n",
        "    vecina =genera_vecina_aleatorio(solucion_referencia)\n",
        "    \n",
        "    #Calcula su valor(distancia)\n",
        "    distancia_vecina = distancia_total(vecina, problem)\n",
        "      \n",
        "    #Si es la mejor solución de todas se guarda(siempre!!!)\n",
        "    if distancia_vecina < mejor_distancia:\n",
        "        mejor_solucion = vecina\n",
        "        mejor_distancia = distancia_vecina\n",
        "    \n",
        "    #Si la nueva vecina es mejor se cambia  \n",
        "    #Si es peor se cambia según una probabilidad que depende de T y delta(distancia_referencia - distancia_vecina)\n",
        "    if distancia_vecina < distancia_referencia or probabilidad(TEMPERATURA, abs(distancia_referencia - distancia_vecina) ) :\n",
        "      solucion_referencia = copy.deepcopy(vecina)\n",
        "      distancia_referencia = distancia_vecina\n",
        "\n",
        "    #Bajamos la temperatura\n",
        "    TEMPERATURA = bajar_temperatura(TEMPERATURA)\n",
        " \n",
        "  print(\"La mejor solución encontrada es \" , end=\"\")\n",
        "  print(mejor_solucion)\n",
        "  print(\"con una distancia total de \" , end=\"\")\n",
        "  print(mejor_distancia)\n",
        "  return mejor_solucion\n",
        "\n",
        "sol  = recocido_simulado(problem, 10000000)\n",
        "\n",
        " \n",
        "\n"
      ],
      "execution_count": 13,
      "outputs": [
        {
          "output_type": "stream",
          "text": [
            "La mejor solución encontrada es [0, 38, 22, 9, 23, 35, 36, 31, 5, 11, 25, 12, 26, 19, 16, 14, 4, 8, 28, 2, 7, 17, 37, 15, 13, 18, 10, 41, 40, 24, 21, 39, 29, 30, 20, 33, 34, 32, 27, 3, 6, 1]\n",
            "con una distancia total de 2184\n"
          ],
          "name": "stdout"
        }
      ]
    },
    {
      "cell_type": "code",
      "metadata": {
        "id": "LK2bXHq1TK9-"
      },
      "source": [
        "  "
      ],
      "execution_count": 13,
      "outputs": []
    },
    {
      "cell_type": "code",
      "metadata": {
        "id": "kF-qizAPDzeS"
      },
      "source": [
        "\n"
      ],
      "execution_count": 13,
      "outputs": []
    }
  ]
}